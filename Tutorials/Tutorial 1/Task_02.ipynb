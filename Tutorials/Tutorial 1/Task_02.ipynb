{
  "cells": [
    {
      "cell_type": "markdown",
      "metadata": {
        "id": "2hTNPGTckGsI"
      },
      "source": [
        "## Task: 02\n",
        "\n",
        "The goal of this task is to implement **Gradient Descent** algorithm in Python. Gradient Descent dictates how the weights get updated from an inital value to ensure we reach a minimal loss value."
      ]
    },
    {
      "cell_type": "code",
      "execution_count": 5,
      "metadata": {
        "id": "ee9xrZVikGsL"
      },
      "outputs": [],
      "source": [
        "#import necessary libraries\n",
        "import numpy as np\n",
        "import pandas as pd\n",
        "import matplotlib.pyplot as plt"
      ]
    },
    {
      "cell_type": "markdown",
      "metadata": {
        "id": "vc84dSmkkGsN"
      },
      "source": [
        "Let us make use of a randomly-created sample dataset as follows"
      ]
    },
    {
      "cell_type": "code",
      "execution_count": 6,
      "metadata": {
        "id": "U-Qc1pHokGsO"
      },
      "outputs": [],
      "source": [
        "#sample-dataset\n",
        "x_data = [1.0, 2.0, 3.0]\n",
        "y_data = [2.0, 4.0, 6.0]\n",
        "\n",
        "# Let us initialize our weight value (w) with 1.0\n",
        "w = 1.0"
      ]
    },
    {
      "cell_type": "markdown",
      "metadata": {
        "id": "oLR0__DKkGsO"
      },
      "source": [
        "## Task: 02 - a\n",
        "Implement the forward and loss functions"
      ]
    },
    {
      "cell_type": "code",
      "source": [
        "#forward function to calculate y_pred for a given x according to the linear model defined above\n",
        "def forward(w, x):\n",
        "    #implement the forward model to compute y_pred as w*x\n",
        "    ## YOUR CODE STARTS HERE\n",
        "    return w*x\n",
        "\n",
        "    ## YOUR CODE ENDS HERE\n",
        "\n",
        "#loss-function to compute the mean-squared error between y_pred and y_actual\n",
        "def loss(y_pred, y_actual):\n",
        "    #calculate the mean-squared-error between y_pred and y_actual\n",
        "    ## YOUR CODE STARTS HERE\n",
        "    return (y_pred - y_actual)**2\n",
        "\n",
        "    ## YOUR CODE ENDS HERE"
      ],
      "metadata": {
        "id": "3tBly4znk_ij"
      },
      "execution_count": 7,
      "outputs": []
    },
    {
      "cell_type": "markdown",
      "metadata": {
        "id": "-UFyg4XwkGsQ"
      },
      "source": [
        "### Gradient Descent\n",
        "\n",
        "We update the `w` such that loss is minimum. The factor by which `w` is updated each time is called `alpha(learning rate)`.\n",
        "\n",
        "New `w` is `w` minus `alpha` times derivative of `loss` against `w`, which can be mathematically expressed as follows:\n",
        "\n",
        "$w=w-\\alpha*\\frac{d(loss)}{dw}$\n",
        "\n",
        "This equation is dependent on how the loss function has been defined. \n",
        "In the current case below formula will dictate how to update the value of w for each pass. \n",
        "\n",
        "$w = w - \\alpha*(2x)*(y_{pred}-y_{actual})$\n"
      ]
    },
    {
      "cell_type": "markdown",
      "metadata": {
        "id": "z13cuySvkGsR"
      },
      "source": [
        "## Task: 02 - b\n",
        "Complete the gradient function"
      ]
    },
    {
      "cell_type": "code",
      "execution_count": 8,
      "metadata": {
        "id": "d2nA6eyCkGsS"
      },
      "outputs": [],
      "source": [
        "# Function to calculate the gradient for w to be updated and get min loss.\n",
        "# Gradient = derivative of the loss for constant x and y with respect to the weight w\n",
        "\n",
        "def gradient(x, y, w):\n",
        "    #implement the gradient of loss with respect to the weight (w)\n",
        "    ## YOUR CODE STARTS HERE\n",
        "    y_pred = forward(w, x)\n",
        "    return 2*x*(y_pred - y)\n",
        "\n",
        "    ## YOUR CODE ENDS HERE"
      ]
    },
    {
      "cell_type": "markdown",
      "metadata": {
        "id": "bhOnXD7skGsT"
      },
      "source": [
        "Calculate $y_{pred}$ for $x=4$ without training the model"
      ]
    },
    {
      "cell_type": "code",
      "execution_count": 9,
      "metadata": {
        "id": "IfGx_H5MkGsT"
      },
      "outputs": [],
      "source": [
        "y_pred_without_train = forward(w, 4)"
      ]
    },
    {
      "cell_type": "markdown",
      "metadata": {
        "id": "geQNFG45kGsU"
      },
      "source": [
        "Begin Training"
      ]
    },
    {
      "cell_type": "code",
      "execution_count": 10,
      "metadata": {
        "id": "Go10fqsMkGsU",
        "outputId": "011ea914-7397-4e4b-88b8-15b75a18d0af",
        "colab": {
          "base_uri": "https://localhost:8080/"
        }
      },
      "outputs": [
        {
          "output_type": "stream",
          "name": "stdout",
          "text": [
            "Progress:  0 w= 1.260688 loss= 4.0525143466666655\n",
            "Progress:  1 w= 1.453417766656 loss= 2.2150323422596667\n",
            "Progress:  2 w= 1.5959051959019805 loss= 1.2106973245614812\n",
            "Progress:  3 w= 1.701247862192685 loss= 0.6617456475624202\n",
            "Progress:  4 w= 1.7791289594933983 loss= 0.36169841395033914\n",
            "Progress:  5 w= 1.836707389300983 loss= 0.19769792689395907\n",
            "Progress:  6 w= 1.8792758133988885 loss= 0.1080581744091792\n",
            "Progress:  7 w= 1.910747160155559 loss= 0.05906267829964466\n",
            "Progress:  8 w= 1.9340143044689266 loss= 0.03228261061229798\n",
            "Progress:  9 w= 1.9512159834655312 loss= 0.01764510140664452\n",
            "Progress:  10 w= 1.9639333911678687 loss= 0.00964449893442513\n",
            "Progress:  11 w= 1.9733355232910992 loss= 0.005271511767061955\n",
            "Progress:  12 w= 1.9802866323953892 loss= 0.0028813146747399157\n",
            "Progress:  13 w= 1.9854256707695 loss= 0.0015748754098861908\n",
            "Progress:  14 w= 1.9892250235079405 loss= 0.0008607989187741338\n",
            "Progress:  15 w= 1.9920339305797026 loss= 0.000470497395483675\n",
            "Progress:  16 w= 1.994110589284741 loss= 0.0002571655172060062\n",
            "Progress:  17 w= 1.9956458879852805 loss= 0.0001405621027335221\n",
            "Progress:  18 w= 1.9967809527381737 loss= 7.68287480356221e-05\n",
            "Progress:  19 w= 1.9976201197307648 loss= 4.199322868633153e-05\n",
            "Progress:  20 w= 1.998240525958391 loss= 2.295275272069943e-05\n",
            "Progress:  21 w= 1.99869919972735 loss= 1.2545566843471576e-05\n",
            "Progress:  22 w= 1.9990383027488265 loss= 6.857183943871714e-06\n",
            "Progress:  23 w= 1.9992890056818404 loss= 3.7480149144916997e-06\n",
            "Progress:  24 w= 1.999474353368653 loss= 2.0485983625691286e-06\n",
            "Progress:  25 w= 1.9996113831376856 loss= 1.1197274682384291e-06\n",
            "Progress:  26 w= 1.9997126908902887 loss= 6.120231403258154e-07\n",
            "Progress:  27 w= 1.9997875889274812 loss= 3.345209748970213e-07\n",
            "Progress:  28 w= 1.9998429619451539 loss= 1.8284322155969052e-07\n",
            "Progress:  29 w= 1.9998838998815958 loss= 9.993885639181628e-08\n",
            "Progress:  30 w= 1.9999141657892625 loss= 5.462480332433112e-08\n",
            "Progress:  31 w= 1.9999365417379913 loss= 2.9856946996895115e-08\n",
            "Progress:  32 w= 1.9999530845453979 loss= 1.6319276770280646e-08\n",
            "Progress:  33 w= 1.9999653148414271 loss= 8.919826743712008e-09\n",
            "Progress:  34 w= 1.999974356846045 loss= 4.875418822697411e-09\n",
            "Progress:  35 w= 1.9999810417085633 loss= 2.664817308553861e-09\n",
            "Progress:  36 w= 1.9999859839076413 loss= 1.4565417959819284e-09\n",
            "Progress:  37 w= 1.9999896377347262 loss= 7.961198678232563e-10\n",
            "Progress:  38 w= 1.999992339052936 loss= 4.3514497534261613e-10\n",
            "Progress:  39 w= 1.9999943361699042 loss= 2.3784251245645866e-10\n",
            "Progress:  40 w= 1.9999958126624442 loss= 1.3000049163724156e-10\n",
            "Progress:  41 w= 1.999996904251097 loss= 7.105595905649731e-11\n",
            "Progress:  42 w= 1.999997711275687 loss= 3.8837924790431617e-11\n",
            "Progress:  43 w= 1.9999983079186507 loss= 2.1228119672861727e-11\n",
            "Progress:  44 w= 1.9999987490239537 loss= 1.1602913056989068e-11\n",
            "Progress:  45 w= 1.9999990751383971 loss= 6.3419461313939024e-12\n",
            "Progress:  46 w= 1.9999993162387186 loss= 3.4663950822524747e-12\n",
            "Progress:  47 w= 1.9999994944870796 loss= 1.8946699647269e-12\n",
            "Progress:  48 w= 1.9999996262682318 loss= 1.0355929406354807e-12\n",
            "Progress:  49 w= 1.999999723695619 loss= 5.660367024448634e-13\n",
            "Progress:  50 w= 1.9999997957248556 loss= 3.0938560464107196e-13\n",
            "Progress:  51 w= 1.9999998489769344 loss= 1.691046745512068e-13\n",
            "Progress:  52 w= 1.9999998883468353 loss= 9.242961093241007e-14\n",
            "Progress:  53 w= 1.9999999174534755 loss= 5.052038309321895e-14\n",
            "Progress:  54 w= 1.999999938972364 loss= 2.7613543938978922e-14\n",
            "Progress:  55 w= 1.9999999548815364 loss= 1.509307240699509e-14\n",
            "Progress:  56 w= 1.9999999666433785 loss= 8.24960519393613e-15\n",
            "Progress:  57 w= 1.9999999753390494 loss= 4.509087636292239e-15\n",
            "Progress:  58 w= 1.9999999817678633 loss= 2.4645871936597784e-15\n",
            "Progress:  59 w= 1.9999999865207625 loss= 1.3470995683872634e-15\n",
            "Progress:  60 w= 1.999999990034638 loss= 7.363006925426945e-16\n",
            "Progress:  61 w= 1.9999999926324883 loss= 4.0244888963833234e-16\n",
            "Progress:  62 w= 1.99999999455311 loss= 2.1997141494645185e-16\n",
            "Progress:  63 w= 1.9999999959730488 loss= 1.2023247480972207e-16\n",
            "Progress:  64 w= 1.9999999970228268 loss= 6.57169288724515e-17\n",
            "Progress:  65 w= 1.9999999977989402 loss= 3.5919704877484956e-17\n",
            "Progress:  66 w= 1.9999999983727301 loss= 1.9633069604482358e-17\n",
            "Progress:  67 w= 1.9999999987969397 loss= 1.0731089361601375e-17\n",
            "Progress:  68 w= 1.999999999110563 loss= 5.865424223592648e-18\n",
            "Progress:  69 w= 1.9999999993424284 loss= 3.20593709572895e-18\n",
            "Progress:  70 w= 1.9999999995138495 loss= 1.7523084712433846e-18\n",
            "Progress:  71 w= 1.9999999996405833 loss= 9.577798640455507e-19\n",
            "Progress:  72 w= 1.999999999734279 loss= 5.235054256286194e-19\n",
            "Progress:  73 w= 1.9999999998035491 loss= 2.8613885224338016e-19\n",
            "Progress:  74 w= 1.9999999998547615 loss= 1.563982536494851e-19\n",
            "Progress:  75 w= 1.9999999998926234 loss= 8.548468207419028e-20\n",
            "Progress:  76 w= 1.9999999999206153 loss= 4.672426679712873e-20\n",
            "Progress:  77 w= 1.9999999999413098 loss= 2.5538821055088412e-20\n",
            "Progress:  78 w= 1.9999999999566096 loss= 1.395911981720485e-20\n",
            "Progress:  79 w= 1.9999999999679208 loss= 7.629835489260853e-21\n",
            "Progress:  80 w= 1.9999999999762834 loss= 4.1703587348634304e-21\n",
            "Progress:  81 w= 1.999999999982466 loss= 2.2794492685101314e-21\n",
            "Progress:  82 w= 1.9999999999870368 loss= 1.2459146530984002e-21\n",
            "Progress:  83 w= 1.999999999990416 loss= 6.809938252034201e-22\n",
            "Progress:  84 w= 1.9999999999929146 loss= 3.7222634171833075e-22\n",
            "Progress:  85 w= 1.9999999999947617 loss= 2.0345645351347754e-22\n",
            "Progress:  86 w= 1.9999999999961273 loss= 1.111956767993656e-22\n",
            "Progress:  87 w= 1.999999999997137 loss= 6.078024234250996e-23\n",
            "Progress:  88 w= 1.9999999999978835 loss= 3.321867956024464e-23\n",
            "Progress:  89 w= 1.9999999999984353 loss= 1.8155153909015986e-23\n",
            "Progress:  90 w= 1.9999999999988431 loss= 9.924324587996338e-24\n",
            "Progress:  91 w= 1.9999999999991447 loss= 5.4254937562672315e-24\n",
            "Progress:  92 w= 1.9999999999993676 loss= 2.965078402510872e-24\n",
            "Progress:  93 w= 1.9999999999995324 loss= 1.6208041997509026e-24\n",
            "Progress:  94 w= 1.9999999999996543 loss= 8.861543418439488e-25\n",
            "Progress:  95 w= 1.9999999999997444 loss= 4.844903798592123e-25\n",
            "Progress:  96 w= 1.999999999999811 loss= 2.645787049730281e-25\n",
            "Progress:  97 w= 1.9999999999998603 loss= 1.4456574558768205e-25\n",
            "Progress:  98 w= 1.9999999999998967 loss= 7.894303641869682e-26\n",
            "Progress:  99 w= 1.9999999999999236 loss= 4.3314528064842435e-26\n"
          ]
        }
      ],
      "source": [
        "# In this method, we learn the dataset multiple times (called epochs)\n",
        "# Each time, the weight (w) gets updates using the graident decent algorithm based on weights of the previous epoch\n",
        "\n",
        "alpha = 0.01 # Let us set learning rate as 0.01\n",
        "weight_list = []\n",
        "loss_list=[]\n",
        "\n",
        "for epoch in range(100):\n",
        "    total_loss=0\n",
        "    count = 0\n",
        "    for x, y in zip(x_data, y_data):\n",
        "        \n",
        "        #call the forward function to calculate y_pred\n",
        "        ## YOUR CODE STARTS HERE\n",
        "        y_pred = forward(w, x)\n",
        "        ## YOUR CODE ENDS HERE\n",
        "        \n",
        "        #call the gradient function to obtain the grad for the given data-pair and update the weight\n",
        "        ## YOUR CODE STARTS HERE\n",
        "        grad = gradient(x, y, w)\n",
        "        w -= alpha*grad\n",
        "        ## YOUR CODE ENDS HERE\n",
        "        \n",
        "        #call the loss function to obtain the mean_squared_error of the current sample\n",
        "        ## YOUR CODE STARTS HERE\n",
        "        current_loss = loss(y_pred, y)\n",
        "        ## YOUR CODE ENDS HERE\n",
        "        \n",
        "        total_loss+=current_loss\n",
        "        \n",
        "        count += 1\n",
        "    \n",
        "    avg_mse = total_loss / count\n",
        "    print('Progress: ', epoch, 'w=', w, 'loss=', avg_mse)\n",
        "    weight_list.append(w)\n",
        "    loss_list.append(avg_mse) "
      ]
    },
    {
      "cell_type": "markdown",
      "metadata": {
        "id": "7Kzj0DWFkGsW"
      },
      "source": [
        "Calculate $y_{pred}$ for $x=4$ after training the model"
      ]
    },
    {
      "cell_type": "code",
      "execution_count": 12,
      "metadata": {
        "id": "tu1TgI9wkGsW",
        "outputId": "72a65d4c-6ca3-4557-cfb6-b7af720eaafc",
        "colab": {
          "base_uri": "https://localhost:8080/"
        }
      },
      "outputs": [
        {
          "output_type": "stream",
          "name": "stdout",
          "text": [
            "Actual Y Value for x=4 : 8\n",
            "Predicted Y Value before training :  4.0\n",
            "Predicted Y Value after training :  7.9999999999996945\n"
          ]
        }
      ],
      "source": [
        "y_pred_with_train = forward(w, 4)\n",
        "\n",
        "print(\"Actual Y Value for x=4 : 8\")\n",
        "print(\"Predicted Y Value before training : \" , y_pred_without_train)\n",
        "print(\"Predicted Y Value after training : \" , y_pred_with_train)"
      ]
    },
    {
      "cell_type": "markdown",
      "metadata": {
        "id": "Lr8Vlk_4kGsX"
      },
      "source": [
        "### Visualize Loss as a function of weight"
      ]
    },
    {
      "cell_type": "code",
      "execution_count": 13,
      "metadata": {
        "scrolled": true,
        "id": "u0M_TlvgkGsX",
        "outputId": "0ce2de9d-2b6e-44ac-b612-aad0d183ef52",
        "colab": {
          "base_uri": "https://localhost:8080/",
          "height": 279
        }
      },
      "outputs": [
        {
          "output_type": "display_data",
          "data": {
            "text/plain": [
              "<Figure size 432x288 with 1 Axes>"
            ],
            "image/png": "[encoded data removed]"
          },
          "metadata": {
            "needs_background": "light"
          }
        }
      ],
      "source": [
        "plt.plot(weight_list, loss_list)\n",
        "plt.ylabel('Loss')\n",
        "plt.xlabel('w')\n",
        "plt.show()"
      ]
    }
  ],
  "metadata": {
    "kernelspec": {
      "display_name": "Python 3 (ipykernel)",
      "language": "python",
      "name": "python3"
    },
    "language_info": {
      "codemirror_mode": {
        "name": "ipython",
        "version": 3
      },
      "file_extension": ".py",
      "mimetype": "text/x-python",
      "name": "python",
      "nbconvert_exporter": "python",
      "pygments_lexer": "ipython3",
      "version": "3.8.10"
    },
    "colab": {
      "name": "Task-02.ipynb",
      "provenance": []
    }
  },
  "nbformat": 4,
  "nbformat_minor": 0
}