{
  "cells": [
    {
      "cell_type": "markdown",
      "metadata": {
        "id": "Sd0950ag4NNZ"
      },
      "source": [
        "### Task 03:\n",
        "\n",
        "In this task, you have to implement the Backpropagation method using Pytorch. This is particularly useful when the hypothesis function contains several weights.\n",
        "\n",
        "**Backpropagation**: Algorithm to caculate gradient for all the weights in the network with several weights. \n",
        "\n",
        "* It uses the `Chain Rule` to calcuate the gradient for multiple nodes at the same time. \n",
        "* In pytorch this is implemented using a `variable` data type and `loss.backward()` method to get the gradients"
      ]
    },
    {
      "cell_type": "code",
      "execution_count": 2,
      "metadata": {
        "id": "2w0MM9204NNh"
      },
      "outputs": [],
      "source": [
        "# import the necessary libraries\n",
        "import torch\n",
        "import numpy as np\n",
        "import matplotlib.pyplot as plt\n",
        "import pandas as pd"
      ]
    },
    {
      "cell_type": "markdown",
      "metadata": {
        "id": "st0vmvel4NNn"
      },
      "source": [
        "## Preliminaries - Pytorch Basics"
      ]
    },
    {
      "cell_type": "code",
      "execution_count": 3,
      "metadata": {
        "colab": {
          "base_uri": "https://localhost:8080/"
        },
        "id": "3BUgr0pR4NNq",
        "outputId": "aad8f92a-dd48-45f0-9136-0b042836a2c3"
      },
      "outputs": [
        {
          "output_type": "stream",
          "name": "stdout",
          "text": [
            "tensor([0., 0., 0., 0., 0.])\n",
            "tensor([1., 1., 1., 1., 1.])\n",
            "tensor([ 0.8607, -1.0401, -0.3258,  0.8999,  0.6351])\n",
            "The size of the to_tensor:  torch.Size([5])\n",
            "The size of the to_tensor:  torch.Size([5])\n"
          ]
        }
      ],
      "source": [
        "# creating a tensor\n",
        "\n",
        "# zero tensor\n",
        "zeros = torch.zeros(5)\n",
        "print(zeros)\n",
        "# ones\n",
        "ones = torch.ones(5)\n",
        "print(ones)\n",
        "# random normal\n",
        "random = torch.randn(5)\n",
        "print(random)\n",
        "\n",
        "\n",
        "# creating tensors from list and/or numpy arrays\n",
        "my_list = [0.0, 1.0, 2.0, 3.0, 4.0]\n",
        "to_tensor = torch.Tensor(my_list)\n",
        "print(\"The size of the to_tensor: \", to_tensor.size())\n",
        "\n",
        "my_array = np.array(my_list) # or\n",
        "to_tensor = torch.tensor(my_array)\n",
        "to_tensor = torch.from_numpy(my_array)\n",
        "print(\"The size of the to_tensor: \", to_tensor.size())"
      ]
    },
    {
      "cell_type": "code",
      "execution_count": 4,
      "metadata": {
        "colab": {
          "base_uri": "https://localhost:8080/"
        },
        "id": "Js4p4btA4VvG",
        "outputId": "98af814d-f39b-43e8-8e13-41ca6f857ce4"
      },
      "outputs": [
        {
          "output_type": "stream",
          "name": "stdout",
          "text": [
            "tensor([[ 1.6727, -0.3045, -1.9060],\n",
            "        [ 1.4567, -0.6158, -0.0362],\n",
            "        [ 0.3325,  1.5602, -0.6537]])\n",
            "tensor([[[-0.2984,  0.5324, -0.6734],\n",
            "         [-0.2027,  0.2507,  0.0708],\n",
            "         [-0.2023,  0.0649,  0.9411]],\n",
            "\n",
            "        [[ 0.0836, -0.9937, -0.6178],\n",
            "         [ 0.7532,  1.2793, -1.2999],\n",
            "         [-0.8546,  0.0534, -0.9658]],\n",
            "\n",
            "        [[ 0.6575, -2.0642,  1.7661],\n",
            "         [ 0.7572,  0.2299,  1.9890],\n",
            "         [-0.8458, -0.3393, -1.2135]]])\n"
          ]
        }
      ],
      "source": [
        "# multi dimenstional tensors\n",
        "\n",
        "# 2D\n",
        "two_dim = torch.randn((3, 3))\n",
        "print(two_dim)\n",
        "# 3D \n",
        "three_dim = torch.randn((3, 3, 3))\n",
        "print(three_dim)"
      ]
    },
    {
      "cell_type": "code",
      "execution_count": 5,
      "metadata": {
        "colab": {
          "base_uri": "https://localhost:8080/"
        },
        "id": "lRA0Icia4ani",
        "outputId": "ce1f109f-f302-4575-e7e0-4de2851c352d"
      },
      "outputs": [
        {
          "output_type": "stream",
          "name": "stdout",
          "text": [
            "torch.Size([5])\n",
            "torch.Size([3, 3])\n",
            "torch.Size([3, 3, 3])\n",
            "tensor([1.6727, 1.4567, 0.3325])\n",
            "tensor([ 1.6727, -0.3045, -1.9060])\n"
          ]
        }
      ],
      "source": [
        "# tensor shapes and axes\n",
        "\n",
        "print(zeros.shape)\n",
        "print(two_dim.shape)\n",
        "print(three_dim.shape)\n",
        "\n",
        "# zeroth axis - rows\n",
        "print(two_dim[:, 0])\n",
        "# first axis - columns\n",
        "print(two_dim[0, :])"
      ]
    },
    {
      "cell_type": "code",
      "execution_count": 6,
      "metadata": {
        "colab": {
          "base_uri": "https://localhost:8080/"
        },
        "id": "4CFwt4R_4iEq",
        "outputId": "517555a3-d7ba-4c3e-f59d-2acf719c7ded"
      },
      "outputs": [
        {
          "output_type": "stream",
          "name": "stdout",
          "text": [
            "tensor([[ 1.6727, -0.3045],\n",
            "        [ 1.4567, -0.6158],\n",
            "        [ 0.3325,  1.5602]])\n",
            "tensor([[ 1.6727, -0.3045, -1.9060],\n",
            "        [ 1.4567, -0.6158, -0.0362]])\n"
          ]
        }
      ],
      "source": [
        "print(two_dim[:, 0:2])\n",
        "print(two_dim[0:2, :])"
      ]
    },
    {
      "cell_type": "code",
      "execution_count": 7,
      "metadata": {
        "colab": {
          "base_uri": "https://localhost:8080/"
        },
        "id": "mJA1f5_F5Acn",
        "outputId": "8904174c-839b-4c51-bc02-1da573b3b7a4"
      },
      "outputs": [
        {
          "output_type": "stream",
          "name": "stdout",
          "text": [
            "Tensor Shape :  torch.Size([2, 3])\n",
            "Resized Tensor Shape :  torch.Size([3, 2])\n",
            "Resized Tensor Shape :  torch.Size([3, 2])\n",
            "Flattened Tensor Shape :  torch.Size([6])\n"
          ]
        }
      ],
      "source": [
        "rand_tensor = torch.randn(2,3)\n",
        "print(\"Tensor Shape : \" , rand_tensor.shape)\n",
        "resized_tensor = rand_tensor.reshape(3,2)\n",
        "print(\"Resized Tensor Shape : \" , resized_tensor.shape) # or\n",
        "resized_tensor = rand_tensor.reshape(3,-1)\n",
        "print(\"Resized Tensor Shape : \" , resized_tensor.shape)\n",
        "flattened_tensor = rand_tensor.reshape(-1)\n",
        "print(\"Flattened Tensor Shape : \" , flattened_tensor.shape)"
      ]
    },
    {
      "cell_type": "markdown",
      "metadata": {
        "id": "_ismMPyM4NNw"
      },
      "source": [
        "Determine the derivative of $y = 2x^{3} + x$ at $x = 1$"
      ]
    },
    {
      "cell_type": "code",
      "execution_count": 8,
      "metadata": {
        "colab": {
          "base_uri": "https://localhost:8080/"
        },
        "id": "Ic-ZkAPC4NNx",
        "outputId": "4dce00b0-a19c-4111-c125-6507aa196188"
      },
      "outputs": [
        {
          "output_type": "stream",
          "name": "stdout",
          "text": [
            "Value of Y at x=1 :  tensor(3., grad_fn=<AddBackward0>)\n",
            "Derivative of Y wrt x at x=1 :  tensor(7.)\n"
          ]
        }
      ],
      "source": [
        "x = torch.tensor(1.0, requires_grad = True)\n",
        "y = 2 * (x ** 3) + x\n",
        "y.backward()\n",
        "print(\"Value of Y at x=1 : \" , y)\n",
        "print(\"Derivative of Y wrt x at x=1 : \" , x.grad)"
      ]
    },
    {
      "cell_type": "markdown",
      "metadata": {
        "id": "gp-J-JDA4NNy"
      },
      "source": [
        "### Task 03 - a\n",
        "Determine the partial derivative of $y = uv + u^{2}$ at $u=1$ and $v=2$ with respect to $u$ and $v$."
      ]
    },
    {
      "cell_type": "code",
      "execution_count": 9,
      "metadata": {
        "id": "N7ShF6wf4NNz",
        "outputId": "11f04169-4166-4c96-913a-a2301387e8a7",
        "colab": {
          "base_uri": "https://localhost:8080/"
        }
      },
      "outputs": [
        {
          "output_type": "stream",
          "name": "stdout",
          "text": [
            "Value of y at u=1, v=2 :  tensor(3., grad_fn=<AddBackward0>)\n",
            "Partial Derivative of y wrt u :  tensor(4.)\n",
            "Partial Derivative of y wrt v :  tensor(1.)\n"
          ]
        }
      ],
      "source": [
        "# YOUR CODE STARTS HERE\n",
        "u = torch.tensor(1.0, requires_grad = True)\n",
        "v = torch.tensor(2.0, requires_grad = True)\n",
        "y = u*v + u**2\n",
        "\n",
        "y.backward()\n",
        "# YOUR CODE ends HERE\n",
        "print(\"Value of y at u=1, v=2 : \" , y)\n",
        "print(\"Partial Derivative of y wrt u : \" , u.grad)\n",
        "print(\"Partial Derivative of y wrt v : \" , v.grad)"
      ]
    },
    {
      "cell_type": "markdown",
      "metadata": {
        "id": "29jvHyKE4NN0"
      },
      "source": [
        "#### Hypothesis Function and Loss Function\n",
        "\n",
        "$y = x * w + b$\n",
        "\n",
        "$loss =(\\hat{y}-y)^2$"
      ]
    },
    {
      "cell_type": "markdown",
      "metadata": {
        "id": "t7dU0O9E4NN0"
      },
      "source": [
        "Let us make use of a randomly-created sample dataset as follows"
      ]
    },
    {
      "cell_type": "code",
      "execution_count": 28,
      "metadata": {
        "id": "6tUXuGub4NN1"
      },
      "outputs": [],
      "source": [
        "#sample-dataset\n",
        "x_data = [1.0, 2.0, 3.0]\n",
        "y_data = [2.0, 4.0, 6.0]"
      ]
    },
    {
      "cell_type": "markdown",
      "metadata": {
        "id": "BI84dQfW4NN1"
      },
      "source": [
        "## Task: 03 - b\n",
        "Declare pytorch tensors for weight and bias and implement the forward and loss function of our model"
      ]
    },
    {
      "cell_type": "code",
      "execution_count": 29,
      "metadata": {
        "id": "ZQaYqClT4NN1"
      },
      "outputs": [],
      "source": [
        "# Define w = 1 and b = -1 for y = wx + b\n",
        "# Note that w,b are learnable paramteter \n",
        "# i.e., you are going to take the derivative of the tensor(s).\n",
        "# YOUR CODE STARTS HERE\n",
        "w = torch.tensor(1., requires_grad = True)\n",
        "b = torch.tensor(-1., requires_grad = True)\n",
        "# YOUR CODE ENDS HERE\n",
        "\n",
        "assert w.item() == 1\n",
        "assert b.item() == -1\n",
        "assert w.requires_grad == True\n",
        "assert b.requires_grad == True"
      ]
    },
    {
      "cell_type": "code",
      "execution_count": 30,
      "metadata": {
        "id": "zRVK-4tr4NN3"
      },
      "outputs": [],
      "source": [
        "#forward function to calculate y_pred for a given x according to the linear model defined above\n",
        "def forward(w, b, x):\n",
        "    #implement the forward model to compute y_pred as w*x + b\n",
        "    ## YOUR CODE STARTS HERE\n",
        "    return w*x + b\n",
        "\n",
        "    ## YOUR CODE ENDS HERE\n",
        "\n",
        "#loss-function to compute the mean-squared error between y_pred and y_actual\n",
        "def loss(y_pred, y_actual):\n",
        "    #calculate the mean-squared-error between y_pred and y_actual\n",
        "    ## YOUR CODE STARTS HERE\n",
        "    return (y_pred - y_actual)**2\n",
        "\n",
        "    ## YOUR CODE ENDS HERE"
      ]
    },
    {
      "cell_type": "markdown",
      "metadata": {
        "id": "x3BAF5aQ4NN3"
      },
      "source": [
        "Calculate $y_{pred}$ for $x=4$ without training the model"
      ]
    },
    {
      "cell_type": "code",
      "execution_count": 31,
      "metadata": {
        "id": "EPAgSpvE4NN4"
      },
      "outputs": [],
      "source": [
        "y_pred_without_train = forward(w, b, 4)"
      ]
    },
    {
      "cell_type": "markdown",
      "metadata": {
        "id": "0BO6QOWq4NN4"
      },
      "source": [
        "Begin Training"
      ]
    },
    {
      "cell_type": "code",
      "execution_count": 32,
      "metadata": {
        "id": "VUgLcPrG4NN4",
        "outputId": "7395bea5-a946-4c87-f919-f961627ab976",
        "colab": {
          "base_uri": "https://localhost:8080/"
        }
      },
      "outputs": [
        {
          "output_type": "stream",
          "name": "stdout",
          "text": [
            "Epoch: 1 | Loss: 8.035331726074219 | w: 1.361407995223999\n",
            "Epoch: 2 | Loss: 3.9245269298553467 | w: 1.6126642227172852\n",
            "Epoch: 3 | Loss: 1.9271574020385742 | w: 1.7872123718261719\n",
            "Epoch: 4 | Loss: 0.9558445811271667 | w: 1.9083435535430908\n",
            "Epoch: 5 | Loss: 0.48289188742637634 | w: 1.9922776222229004\n",
            "Epoch: 6 | Loss: 0.2521496117115021 | w: 2.0503103733062744\n",
            "Epoch: 7 | Loss: 0.1392294019460678 | w: 2.090308427810669\n",
            "Epoch: 8 | Loss: 0.08369665592908859 | w: 2.1177496910095215\n",
            "Epoch: 9 | Loss: 0.056166838854551315 | w: 2.1364498138427734\n",
            "Epoch: 10 | Loss: 0.04233689606189728 | w: 2.1490650177001953\n"
          ]
        }
      ],
      "source": [
        "# In this method, we learn the dataset multiple times (called epochs)\n",
        "# Each time, the weight (w) gets updates using the graident decent algorithm based on weights of the previous epoch\n",
        "\n",
        "alpha = 0.01 # Let us set learning rate as 0.01\n",
        "weight_list = []\n",
        "loss_list=[]\n",
        "\n",
        "# Training loop\n",
        "for epoch in range(10):\n",
        "    total_loss = 0\n",
        "    count = 0\n",
        "    \n",
        "    for x, y in zip(x_data, y_data):\n",
        "        \n",
        "        #implement forward pass, compute loss and gradients for the weights and update weights\n",
        "        ## YOUR CODE STARTS HERE\n",
        "        y_pred = forward(w, b, x)\n",
        "        current_loss = loss(y_pred, y)\n",
        "        current_loss.backward()\n",
        "        grad = [w.grad, b.grad]\n",
        "        w.data = w.data - alpha*grad[0].item()\n",
        "        b.data = b.data - alpha*grad[1].item()\n",
        "        total_loss += current_loss\n",
        "        ## YOUR CODE ENDS HERE\n",
        "\n",
        "        # Manually zero the gradients after updating weights\n",
        "        w.grad.data.zero_()\n",
        "        b.grad.data.zero_()\n",
        "        count += 1\n",
        "        \n",
        "    avg_mse = total_loss / count        \n",
        "    print(f\"Epoch: {epoch+1} | Loss: {avg_mse.item()} | w: {w.item()}\")\n",
        "    weight_list.append(w)\n",
        "    loss_list.append(avg_mse)  "
      ]
    },
    {
      "cell_type": "markdown",
      "metadata": {
        "id": "1vfWzjw14NN5"
      },
      "source": [
        "Calculate $y_{pred}$ for $x=4$ after training the model"
      ]
    },
    {
      "cell_type": "code",
      "execution_count": 34,
      "metadata": {
        "id": "KiQzppwU4NN6",
        "colab": {
          "base_uri": "https://localhost:8080/"
        },
        "outputId": "7477cc44-b789-465f-eada-c635f22d2e3b"
      },
      "outputs": [
        {
          "output_type": "stream",
          "name": "stdout",
          "text": [
            "Actual Y Value for x=4 : 8\n",
            "Predicted Y Value before training :  3.0\n",
            "Predicted Y Value after training :  8.151883125305176\n"
          ]
        }
      ],
      "source": [
        "y_pred_with_train = forward(w, b, 4)\n",
        "\n",
        "print(\"Actual Y Value for x=4 : 8\")\n",
        "print(\"Predicted Y Value before training : \" , y_pred_without_train.item())\n",
        "print(\"Predicted Y Value after training : \" , y_pred_with_train.item())"
      ]
    },
    {
      "cell_type": "markdown",
      "metadata": {
        "id": "mfsMg3xe4NN6"
      },
      "source": [
        "## Task: 03 - c\n",
        "Repeat **Task:03 - b** for the quadratic model defined below"
      ]
    },
    {
      "cell_type": "markdown",
      "metadata": {
        "id": "jvN4ZfIt4NN6"
      },
      "source": [
        "#### Using backward propagation for quadratic model\n",
        "\n",
        "$\\hat{y} = x^2*w_{2} + x*w_{1}$\n",
        "\n",
        "$loss = (\\hat{y}-y)^2$\n",
        "\n",
        "* Using Dummy values of x and y\n",
        "\n",
        "`x = 1,2,3,4,5`\n",
        "`y = 1,6,15,28,45`"
      ]
    },
    {
      "cell_type": "code",
      "execution_count": 35,
      "metadata": {
        "id": "pKxTLgYc4NN7"
      },
      "outputs": [],
      "source": [
        "x_data = [1.0, 2.0, 3.0, 4.0, 5.0]\n",
        "y_data = [1.0, 6.0, 15.0, 28, 45]"
      ]
    },
    {
      "cell_type": "code",
      "execution_count": 36,
      "metadata": {
        "id": "0tvvovED4NN7",
        "colab": {
          "base_uri": "https://localhost:8080/",
          "height": 265
        },
        "outputId": "13948672-72ad-4c46-9f8b-93fa3129b6de"
      },
      "outputs": [
        {
          "output_type": "display_data",
          "data": {
            "text/plain": [
              "<Figure size 432x288 with 1 Axes>"
            ],
            "image/png": "[encoded data removed]"
          },
          "metadata": {
            "needs_background": "light"
          }
        }
      ],
      "source": [
        "# Visualize the given dataset\n",
        "plt.plot(x_data,y_data)\n",
        "plt.show()"
      ]
    },
    {
      "cell_type": "code",
      "execution_count": 37,
      "metadata": {
        "id": "nodeeWDX4NN7"
      },
      "outputs": [],
      "source": [
        "# Initialize w2 and w1 with randon values\n",
        "w_1 = torch.tensor([1.0], requires_grad=True)\n",
        "w_2 = torch.tensor([1.0], requires_grad=True)"
      ]
    },
    {
      "cell_type": "code",
      "execution_count": 38,
      "metadata": {
        "id": "4DZxKgss4NN7"
      },
      "outputs": [],
      "source": [
        "#wuadratic-forward function to calculate y_pred for a given x according to the quadratic model defined above\n",
        "def quad_forward(w1, w2, x):\n",
        "    #implement the forward model to compute y_pred as w1*x + w2*(x^2)\n",
        "    ## YOUR CODE STARTS HERE\n",
        "    return w1*x + w2*(x**2)\n",
        "\n",
        "    ## YOUR CODE ENDS HERE\n",
        "\n",
        "#loss-function to compute the mean-squared error between y_pred and y_actual\n",
        "def loss(y_pred, y_actual):\n",
        "    #calculate the mean-squared-error between y_pred and y_actual\n",
        "    ## YOUR CODE STARTS HERE\n",
        "    return (y_pred - y_actual)**2\n",
        "\n",
        "    ## YOUR CODE ENDS HERE"
      ]
    },
    {
      "cell_type": "markdown",
      "metadata": {
        "id": "mKlMp8sW4NN8"
      },
      "source": [
        "Calculate $y_{pred}$ for $x=6$ without training the model"
      ]
    },
    {
      "cell_type": "code",
      "execution_count": 39,
      "metadata": {
        "id": "YiVbYy1P4NN8"
      },
      "outputs": [],
      "source": [
        "y_pred_without_train = quad_forward(w_1, w_2, 6)"
      ]
    },
    {
      "cell_type": "markdown",
      "metadata": {
        "id": "NfUGvo2F4NN8"
      },
      "source": [
        "Begin Training"
      ]
    },
    {
      "cell_type": "code",
      "execution_count": 40,
      "metadata": {
        "id": "04CX2FJX4NN9",
        "colab": {
          "base_uri": "https://localhost:8080/"
        },
        "outputId": "7bba46ec-3cef-4f1e-fdc0-ab7e4f66a91d"
      },
      "outputs": [
        {
          "output_type": "stream",
          "name": "stdout",
          "text": [
            "Epoch: 1 | Loss: 407.6036682128906 | w: 2.1490650177001953\n",
            "Epoch: 2 | Loss: 319.4317932128906 | w: 2.1490650177001953\n",
            "Epoch: 3 | Loss: 253.5703582763672 | w: 2.1490650177001953\n",
            "Epoch: 4 | Loss: 204.37718200683594 | w: 2.1490650177001953\n",
            "Epoch: 5 | Loss: 167.63479614257812 | w: 2.1490650177001953\n",
            "Epoch: 6 | Loss: 140.19107055664062 | w: 2.1490650177001953\n",
            "Epoch: 7 | Loss: 119.6903305053711 | w: 2.1490650177001953\n",
            "Epoch: 8 | Loss: 104.37223052978516 | w: 2.1490650177001953\n",
            "Epoch: 9 | Loss: 92.92167663574219 | w: 2.1490650177001953\n",
            "Epoch: 10 | Loss: 84.35618591308594 | w: 2.1490650177001953\n",
            "Epoch: 11 | Loss: 77.9421157836914 | w: 2.1490650177001953\n",
            "Epoch: 12 | Loss: 73.13150024414062 | w: 2.1490650177001953\n",
            "Epoch: 13 | Loss: 69.51544189453125 | w: 2.1490650177001953\n",
            "Epoch: 14 | Loss: 66.7886734008789 | w: 2.1490650177001953\n",
            "Epoch: 15 | Loss: 64.72352600097656 | w: 2.1490650177001953\n",
            "Epoch: 16 | Loss: 63.15018844604492 | w: 2.1490650177001953\n",
            "Epoch: 17 | Loss: 61.9421272277832 | w: 2.1490650177001953\n",
            "Epoch: 18 | Loss: 61.00507736206055 | w: 2.1490650177001953\n",
            "Epoch: 19 | Loss: 60.26884078979492 | w: 2.1490650177001953\n",
            "Epoch: 20 | Loss: 59.68120193481445 | w: 2.1490650177001953\n",
            "Epoch: 21 | Loss: 59.203369140625 | w: 2.1490650177001953\n",
            "Epoch: 22 | Loss: 58.80651092529297 | w: 2.1490650177001953\n",
            "Epoch: 23 | Loss: 58.469268798828125 | w: 2.1490650177001953\n",
            "Epoch: 24 | Loss: 58.175819396972656 | w: 2.1490650177001953\n",
            "Epoch: 25 | Loss: 57.91440963745117 | w: 2.1490650177001953\n",
            "Epoch: 26 | Loss: 57.67646408081055 | w: 2.1490650177001953\n",
            "Epoch: 27 | Loss: 57.45561981201172 | w: 2.1490650177001953\n",
            "Epoch: 28 | Loss: 57.247169494628906 | w: 2.1490650177001953\n",
            "Epoch: 29 | Loss: 57.047752380371094 | w: 2.1490650177001953\n",
            "Epoch: 30 | Loss: 56.854820251464844 | w: 2.1490650177001953\n",
            "Epoch: 31 | Loss: 56.66658401489258 | w: 2.1490650177001953\n",
            "Epoch: 32 | Loss: 56.48176193237305 | w: 2.1490650177001953\n",
            "Epoch: 33 | Loss: 56.29937744140625 | w: 2.1490650177001953\n",
            "Epoch: 34 | Loss: 56.118804931640625 | w: 2.1490650177001953\n",
            "Epoch: 35 | Loss: 55.93956756591797 | w: 2.1490650177001953\n",
            "Epoch: 36 | Loss: 55.7613525390625 | w: 2.1490650177001953\n",
            "Epoch: 37 | Loss: 55.58392333984375 | w: 2.1490650177001953\n",
            "Epoch: 38 | Loss: 55.40714645385742 | w: 2.1490650177001953\n",
            "Epoch: 39 | Loss: 55.23090744018555 | w: 2.1490650177001953\n",
            "Epoch: 40 | Loss: 55.0551872253418 | w: 2.1490650177001953\n",
            "Epoch: 41 | Loss: 54.87995147705078 | w: 2.1490650177001953\n",
            "Epoch: 42 | Loss: 54.70519256591797 | w: 2.1490650177001953\n",
            "Epoch: 43 | Loss: 54.5308723449707 | w: 2.1490650177001953\n",
            "Epoch: 44 | Loss: 54.35703659057617 | w: 2.1490650177001953\n",
            "Epoch: 45 | Loss: 54.1837158203125 | w: 2.1490650177001953\n",
            "Epoch: 46 | Loss: 54.01088333129883 | w: 2.1490650177001953\n",
            "Epoch: 47 | Loss: 53.83856201171875 | w: 2.1490650177001953\n",
            "Epoch: 48 | Loss: 53.66679000854492 | w: 2.1490650177001953\n",
            "Epoch: 49 | Loss: 53.49555587768555 | w: 2.1490650177001953\n",
            "Epoch: 50 | Loss: 53.32490921020508 | w: 2.1490650177001953\n",
            "Epoch: 51 | Loss: 53.15483856201172 | w: 2.1490650177001953\n",
            "Epoch: 52 | Loss: 52.98534393310547 | w: 2.1490650177001953\n",
            "Epoch: 53 | Loss: 52.81645584106445 | w: 2.1490650177001953\n",
            "Epoch: 54 | Loss: 52.6481819152832 | w: 2.1490650177001953\n",
            "Epoch: 55 | Loss: 52.48052215576172 | w: 2.1490650177001953\n",
            "Epoch: 56 | Loss: 52.313499450683594 | w: 2.1490650177001953\n",
            "Epoch: 57 | Loss: 52.147071838378906 | w: 2.1490650177001953\n",
            "Epoch: 58 | Loss: 51.981300354003906 | w: 2.1490650177001953\n",
            "Epoch: 59 | Loss: 51.81618118286133 | w: 2.1490650177001953\n",
            "Epoch: 60 | Loss: 51.65167236328125 | w: 2.1490650177001953\n",
            "Epoch: 61 | Loss: 51.487831115722656 | w: 2.1490650177001953\n",
            "Epoch: 62 | Loss: 51.324607849121094 | w: 2.1490650177001953\n",
            "Epoch: 63 | Loss: 51.16205596923828 | w: 2.1490650177001953\n",
            "Epoch: 64 | Loss: 51.000118255615234 | w: 2.1490650177001953\n",
            "Epoch: 65 | Loss: 50.838844299316406 | w: 2.1490650177001953\n",
            "Epoch: 66 | Loss: 50.67821502685547 | w: 2.1490650177001953\n",
            "Epoch: 67 | Loss: 50.518211364746094 | w: 2.1490650177001953\n",
            "Epoch: 68 | Loss: 50.358863830566406 | w: 2.1490650177001953\n",
            "Epoch: 69 | Loss: 50.20015335083008 | w: 2.1490650177001953\n",
            "Epoch: 70 | Loss: 50.042091369628906 | w: 2.1490650177001953\n",
            "Epoch: 71 | Loss: 49.88465881347656 | w: 2.1490650177001953\n",
            "Epoch: 72 | Loss: 49.727874755859375 | w: 2.1490650177001953\n",
            "Epoch: 73 | Loss: 49.57170486450195 | w: 2.1490650177001953\n",
            "Epoch: 74 | Loss: 49.416194915771484 | w: 2.1490650177001953\n",
            "Epoch: 75 | Loss: 49.26130294799805 | w: 2.1490650177001953\n",
            "Epoch: 76 | Loss: 49.10703659057617 | w: 2.1490650177001953\n",
            "Epoch: 77 | Loss: 48.95338821411133 | w: 2.1490650177001953\n",
            "Epoch: 78 | Loss: 48.800384521484375 | w: 2.1490650177001953\n",
            "Epoch: 79 | Loss: 48.64799499511719 | w: 2.1490650177001953\n",
            "Epoch: 80 | Loss: 48.49622344970703 | w: 2.1490650177001953\n",
            "Epoch: 81 | Loss: 48.3450813293457 | w: 2.1490650177001953\n",
            "Epoch: 82 | Loss: 48.194557189941406 | w: 2.1490650177001953\n",
            "Epoch: 83 | Loss: 48.044647216796875 | w: 2.1490650177001953\n",
            "Epoch: 84 | Loss: 47.89533233642578 | w: 2.1490650177001953\n",
            "Epoch: 85 | Loss: 47.74663543701172 | w: 2.1490650177001953\n",
            "Epoch: 86 | Loss: 47.59854507446289 | w: 2.1490650177001953\n",
            "Epoch: 87 | Loss: 47.451072692871094 | w: 2.1490650177001953\n",
            "Epoch: 88 | Loss: 47.3041877746582 | w: 2.1490650177001953\n",
            "Epoch: 89 | Loss: 47.15789031982422 | w: 2.1490650177001953\n",
            "Epoch: 90 | Loss: 47.01221466064453 | w: 2.1490650177001953\n",
            "Epoch: 91 | Loss: 46.86711502075195 | w: 2.1490650177001953\n",
            "Epoch: 92 | Loss: 46.72262191772461 | w: 2.1490650177001953\n",
            "Epoch: 93 | Loss: 46.578712463378906 | w: 2.1490650177001953\n",
            "Epoch: 94 | Loss: 46.435386657714844 | w: 2.1490650177001953\n",
            "Epoch: 95 | Loss: 46.29265213012695 | w: 2.1490650177001953\n",
            "Epoch: 96 | Loss: 46.15050506591797 | w: 2.1490650177001953\n",
            "Epoch: 97 | Loss: 46.00894546508789 | w: 2.1490650177001953\n",
            "Epoch: 98 | Loss: 45.867950439453125 | w: 2.1490650177001953\n",
            "Epoch: 99 | Loss: 45.727535247802734 | w: 2.1490650177001953\n",
            "Epoch: 100 | Loss: 45.58769226074219 | w: 2.1490650177001953\n"
          ]
        }
      ],
      "source": [
        "# In this method, we learn the dataset multiple times (called epochs)\n",
        "# Each time, the weight (w) gets updates using the graident decent algorithm based on weights of the previous epoch\n",
        "\n",
        "alpha = 0.0012 # Let us set learning rate as 0.01\n",
        "weight_list = []\n",
        "loss_list=[]\n",
        "\n",
        "# Training loop\n",
        "for epoch in range(100):\n",
        "    total_loss = 0\n",
        "    count = 0\n",
        "    \n",
        "    for x, y in zip(x_data, y_data):\n",
        "        \n",
        "        #implement forward pass, compute loss and gradients for the weights and update weights\n",
        "        ## YOUR CODE STARTS HERE\n",
        "        y_pred = forward(w_1, w_2, x)\n",
        "        current_loss = loss(y_pred, y)\n",
        "        current_loss.backward()\n",
        "        grad = [w_1.grad, w_2.grad]\n",
        "        w_1.data = w_1.data - alpha*grad[0].item()\n",
        "        w_2.data = w_2.data - alpha*grad[1].item()\n",
        "        total_loss += current_loss\n",
        "        ## YOUR CODE ENDS HERE\n",
        "        \n",
        "        # Manually zero the gradients after updating weights\n",
        "        w_1.grad.data.zero_()\n",
        "        w_2.grad.data.zero_()\n",
        "        \n",
        "        count += 1\n",
        "        \n",
        "    avg_mse = total_loss / count        \n",
        "    print(f\"Epoch: {epoch+1} | Loss: {avg_mse.item()} | w: {w.item()}\")\n",
        "    weight_list.append(w)\n",
        "    loss_list.append(avg_mse)"
      ]
    },
    {
      "cell_type": "markdown",
      "metadata": {
        "id": "nCxaFfeb4NN9"
      },
      "source": [
        "Calculate $y_{pred}$ for $x=6$ after training the model"
      ]
    },
    {
      "cell_type": "code",
      "execution_count": 42,
      "metadata": {
        "id": "alIVupLO4NN9",
        "colab": {
          "base_uri": "https://localhost:8080/"
        },
        "outputId": "277e7faf-4186-4449-a8b2-8885743efa01"
      },
      "outputs": [
        {
          "output_type": "stream",
          "name": "stdout",
          "text": [
            "Actual Y Value for x=4 : 66\n",
            "Predicted Y Value before training :  42.0\n",
            "Predicted Y Value after training :  43.666015625\n"
          ]
        }
      ],
      "source": [
        "y_pred_with_train = forward(w_1, w_2, 6)\n",
        "\n",
        "print(\"Actual Y Value for x=4 : 66\")\n",
        "print(\"Predicted Y Value before training : \" , y_pred_without_train.item())\n",
        "print(\"Predicted Y Value after training : \" , y_pred_with_train.item())"
      ]
    }
  ],
  "metadata": {
    "colab": {
      "name": "Task_03.ipynb",
      "provenance": []
    },
    "kernelspec": {
      "display_name": "Python 3 (ipykernel)",
      "language": "python",
      "name": "python3"
    },
    "language_info": {
      "codemirror_mode": {
        "name": "ipython",
        "version": 3
      },
      "file_extension": ".py",
      "mimetype": "text/x-python",
      "name": "python",
      "nbconvert_exporter": "python",
      "pygments_lexer": "ipython3",
      "version": "3.8.10"
    }
  },
  "nbformat": 4,
  "nbformat_minor": 0
}