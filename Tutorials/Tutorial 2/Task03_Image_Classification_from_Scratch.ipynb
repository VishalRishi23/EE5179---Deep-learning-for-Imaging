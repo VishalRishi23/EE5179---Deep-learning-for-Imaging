{
  "cells": [
    {
      "cell_type": "markdown",
      "metadata": {
        "id": "6-GgPbHwtwyl"
      },
      "source": [
        "# Logistic Regression with a Neural Network\n",
        "\n",
        "You will build a logistic regression classifier to recognize  cats. This assignment will step you through how to do this with a Neural Network mindset, and so will also hone your intuitions about deep learning."
      ]
    },
    {
      "cell_type": "code",
      "execution_count": 1,
      "metadata": {
        "colab": {
          "base_uri": "https://localhost:8080/"
        },
        "id": "rYWP4RE5tzv7",
        "outputId": "126312d5-74dd-4a5c-92bc-c6c09b0c343f"
      },
      "outputs": [
        {
          "output_type": "stream",
          "name": "stdout",
          "text": [
            "Cloning into 'EE5179-Final'...\n",
            "remote: Enumerating objects: 70, done.\u001b[K\n",
            "remote: Counting objects: 100% (11/11), done.\u001b[K\n",
            "remote: Compressing objects: 100% (11/11), done.\u001b[K\n",
            "remote: Total 70 (delta 4), reused 0 (delta 0), pack-reused 59\u001b[K\n",
            "Unpacking objects: 100% (70/70), done.\n"
          ]
        }
      ],
      "source": [
        "!git clone https://github.com/SanVik2000/EE5179-Final.git"
      ]
    },
    {
      "cell_type": "code",
      "execution_count": 2,
      "metadata": {
        "id": "VTx-6CuNtwyq"
      },
      "outputs": [],
      "source": [
        "import numpy as np\n",
        "import matplotlib.pyplot as plt\n",
        "import h5py\n",
        "import scipy\n",
        "from PIL import Image\n",
        "from scipy import ndimage\n",
        "\n",
        "%matplotlib inline"
      ]
    },
    {
      "cell_type": "code",
      "execution_count": 3,
      "metadata": {
        "id": "NN5JFKS1twyr"
      },
      "outputs": [],
      "source": [
        "def load_dataset():\n",
        "    train_dataset = h5py.File('/content/EE5179-Final/Tutorial-2/train_catvnoncat.h5', \"r\")\n",
        "    train_set_x_orig = np.array(train_dataset[\"train_set_x\"][:]) # your train set features\n",
        "    train_set_y_orig = np.array(train_dataset[\"train_set_y\"][:]) # your train set labels\n",
        "\n",
        "    test_dataset = h5py.File('/content/EE5179-Final/Tutorial-2/test_catvnoncat.h5', \"r\")\n",
        "    test_set_x_orig = np.array(test_dataset[\"test_set_x\"][:]) # your test set features\n",
        "    test_set_y_orig = np.array(test_dataset[\"test_set_y\"][:]) # your test set labels\n",
        "\n",
        "    classes = np.array(test_dataset[\"list_classes\"][:]) # the list of classes\n",
        "    \n",
        "    train_set_y_orig = train_set_y_orig.reshape((1, train_set_y_orig.shape[0]))\n",
        "    test_set_y_orig = test_set_y_orig.reshape((1, test_set_y_orig.shape[0]))\n",
        "    \n",
        "    return train_set_x_orig, train_set_y_orig, test_set_x_orig, test_set_y_orig, classes"
      ]
    },
    {
      "cell_type": "markdown",
      "metadata": {
        "id": "0BuukhWAtwys"
      },
      "source": [
        "## 1 - Overview of the Problem set ##\n",
        "\n",
        "**Problem Statement**: You are given a dataset containing:\n",
        "    * a training set of images labeled as cat (y=1) or non-cat (y=0)\n",
        "    * a test set of images labeled as cat or non-cat\n",
        "    * each image is of shape (num_px, num_px, 3) where 3 is for the 3 channels (RGB). Thus, each image is square (height = num_px) and (width = num_px).\n",
        "\n",
        "You will build a simple image-recognition algorithm that can correctly classify pictures as cat or non-cat.\n",
        "\n",
        "Let's get more familiar with the dataset. Load the data by running the following code."
      ]
    },
    {
      "cell_type": "code",
      "execution_count": 4,
      "metadata": {
        "id": "Tl5arW2etwys"
      },
      "outputs": [],
      "source": [
        "# Loading the data (cat/non-cat)\n",
        "train_set_x_orig, train_set_y, test_set_x_orig, test_set_y, classes = load_dataset()"
      ]
    },
    {
      "cell_type": "code",
      "execution_count": 5,
      "metadata": {
        "colab": {
          "base_uri": "https://localhost:8080/",
          "height": 285
        },
        "id": "PW6j8VtCtwyt",
        "outputId": "4b63b6dd-5614-4d2d-d1e6-15878b928642"
      },
      "outputs": [
        {
          "output_type": "stream",
          "name": "stdout",
          "text": [
            "y = 0, it's a 'non-cat' picture.\n"
          ]
        },
        {
          "output_type": "display_data",
          "data": {
            "text/plain": [
              "<Figure size 432x288 with 1 Axes>"
            ],
            "image/png": "[encoded data removed]"
          },
          "metadata": {
            "needs_background": "light"
          }
        }
      ],
      "source": [
        "# Example of a picture\n",
        "index =10\n",
        "plt.imshow(train_set_x_orig[index])\n",
        "print (\"y = \" + str(train_set_y[0, index]) + \", it's a '\" + classes[np.squeeze(train_set_y[:, index])].decode(\"utf-8\") +  \"' picture.\")"
      ]
    },
    {
      "cell_type": "code",
      "execution_count": 6,
      "metadata": {
        "colab": {
          "base_uri": "https://localhost:8080/"
        },
        "id": "56UfnklPtwyu",
        "outputId": "5b994bf2-2ac7-45cd-9aa5-2b0eafd406c6",
        "scrolled": true
      },
      "outputs": [
        {
          "output_type": "stream",
          "name": "stdout",
          "text": [
            "Number of training examples: m_train = 209\n",
            "Number of testing examples: m_test = 50\n",
            "Height/Width of each image: num_px = 64\n",
            "Each image is of size: (64, 64, 3)\n",
            "train_set_x shape: (209, 64, 64, 3)\n",
            "train_set_y shape: (1, 209)\n",
            "test_set_x shape: (50, 64, 64, 3)\n",
            "test_set_y shape: (1, 50)\n"
          ]
        }
      ],
      "source": [
        "m_train = train_set_x_orig.shape[0]\n",
        "m_test =  test_set_x_orig.shape[0]\n",
        "num_px = train_set_x_orig.shape[1]\n",
        "\n",
        "print (\"Number of training examples: m_train = \" + str(m_train))\n",
        "print (\"Number of testing examples: m_test = \" + str(m_test))\n",
        "print (\"Height/Width of each image: num_px = \" + str(num_px))\n",
        "print (\"Each image is of size: (\" + str(num_px) + \", \" + str(num_px) + \", 3)\")\n",
        "print (\"train_set_x shape: \" + str(train_set_x_orig.shape))\n",
        "print (\"train_set_y shape: \" + str(train_set_y.shape))\n",
        "print (\"test_set_x shape: \" + str(test_set_x_orig.shape))\n",
        "print (\"test_set_y shape: \" + str(test_set_y.shape))"
      ]
    },
    {
      "cell_type": "markdown",
      "metadata": {
        "id": "4d16IIPstwyv"
      },
      "source": [
        "**Expected Output for m_train, m_test and num_px**: \n",
        "<table style=\"width:15%\">\n",
        "  <tr>\n",
        "    <td>**m_train**</td>\n",
        "    <td> 209 </td> \n",
        "  </tr>\n",
        "  \n",
        "  <tr>\n",
        "    <td>**m_test**</td>\n",
        "    <td> 50 </td> \n",
        "  </tr>\n",
        "  \n",
        "  <tr>\n",
        "    <td>**num_px**</td>\n",
        "    <td> 64 </td> \n",
        "  </tr>\n",
        "  \n",
        "</table>\n"
      ]
    },
    {
      "cell_type": "markdown",
      "metadata": {
        "id": "bW_IUeoCtwyv"
      },
      "source": [
        "For convenience, you should now reshape images of shape (num_px, num_px, 3) in a numpy-array of shape (num_px $*$ num_px $*$ 3, 1). \n",
        "\n",
        "**Exercise:** Reshape the training and test data sets so that images of size (num_px, num_px, 3) are flattened into single vectors of shape (num\\_px $*$ num\\_px $*$ 3, 1).\n",
        "\n",
        "A trick when you want to flatten a matrix X of shape (a,b,c,d) to a matrix X_flatten of shape (b$*$c$*$d, a) is to use: \n",
        "```python\n",
        "X_flatten = X.reshape(X.shape[0], -1).T      # X.T is the transpose of X\n",
        "```"
      ]
    },
    {
      "cell_type": "code",
      "execution_count": 7,
      "metadata": {
        "colab": {
          "base_uri": "https://localhost:8080/"
        },
        "id": "2TxXm3MFtwyw",
        "outputId": "4f7fa38d-09c9-4725-dc20-22a378272361"
      },
      "outputs": [
        {
          "output_type": "stream",
          "name": "stdout",
          "text": [
            "train_set_x_flatten shape: (209, 12288)\n",
            "train_set_y shape: (209, 1)\n",
            "test_set_x_flatten shape: (50, 12288)\n",
            "test_set_y shape: (50, 1)\n"
          ]
        }
      ],
      "source": [
        "# Reshape the training and test examples\n",
        "\n",
        "train_set_x_flatten = train_set_x_orig.reshape(train_set_x_orig.shape[0], -1)\n",
        "test_set_x_flatten = test_set_x_orig.reshape(test_set_x_orig.shape[0], -1)\n",
        "train_set_y = train_set_y.reshape(train_set_y.shape[1], -1)\n",
        "test_set_y = test_set_y.reshape(test_set_y.shape[1], -1)\n",
        "\n",
        "print (\"train_set_x_flatten shape: \" + str(train_set_x_flatten.shape))\n",
        "print (\"train_set_y shape: \" + str(train_set_y.shape))\n",
        "print (\"test_set_x_flatten shape: \" + str(test_set_x_flatten.shape))\n",
        "print (\"test_set_y shape: \" + str(test_set_y.shape))"
      ]
    },
    {
      "cell_type": "markdown",
      "metadata": {
        "id": "2g8qn_9Gtwyw"
      },
      "source": [
        "**Expected Output**: \n",
        "\n",
        "<table style=\"width:35%\">\n",
        "  <tr>\n",
        "    <td>**train_set_x_flatten shape**</td>\n",
        "    <td> (209, 12288)</td> \n",
        "  </tr>\n",
        "  <tr>\n",
        "    <td>**train_set_y shape**</td>\n",
        "    <td>(209, 1)</td> \n",
        "  </tr>\n",
        "  <tr>\n",
        "    <td>**test_set_x_flatten shape**</td>\n",
        "    <td>(50, 12288)</td> \n",
        "  </tr>\n",
        "  <tr>\n",
        "    <td>**test_set_y shape**</td>\n",
        "    <td>(50, 1)</td> \n",
        "  </tr>\n",
        "</table>"
      ]
    },
    {
      "cell_type": "markdown",
      "metadata": {
        "id": "UiQAZtcKtwyx"
      },
      "source": [
        "To represent color images, the red, green and blue channels (RGB) must be specified for each pixel, and so the pixel value is actually a vector of three numbers ranging from 0 to 255.\n",
        "\n",
        "One common preprocessing step in machine learning is to center and standardize your dataset, meaning that you substract the mean of the whole numpy array from each example, and then divide each example by the standard deviation of the whole numpy array. But for picture datasets, it is simpler and more convenient and works almost as well to just divide every row of the dataset by 255 (the maximum value of a pixel channel).\n",
        "\n",
        "<!-- During the training of your model, you're going to multiply weights and add biases to some initial inputs in order to observe neuron activations. Then you backpropogate with the gradients to train the model. But, it is extremely important for each feature to have a similar range such that our gradients don't explode. You will see that more in detail later in the lectures. !--> \n",
        "\n",
        "Let's standardize our dataset."
      ]
    },
    {
      "cell_type": "code",
      "execution_count": 8,
      "metadata": {
        "id": "gM2Urrdvtwyx"
      },
      "outputs": [],
      "source": [
        "train_set_x = train_set_x_flatten/255.\n",
        "test_set_x = test_set_x_flatten/255."
      ]
    },
    {
      "cell_type": "markdown",
      "metadata": {
        "id": "Xev5eMXttwyx"
      },
      "source": [
        "<font color='blue'>\n",
        "**What you need to remember:**\n",
        "\n",
        "Common steps for pre-processing a new dataset are:\n",
        "- Figure out the dimensions and shapes of the problem (m_train, m_test, num_px, ...)\n",
        "- Reshape the datasets such that each example is now a vector of size (m_train, num_px \\* num_px \\* 3)\n",
        "- \"Standardize\" the data"
      ]
    },
    {
      "cell_type": "markdown",
      "metadata": {
        "id": "YpLO06OQtwyy"
      },
      "source": [
        "## 2 - General Architecture of the learning algorithm ##\n",
        "\n",
        "It's time to design a simple algorithm to distinguish cat images from non-cat images.\n",
        "\n",
        "You will build a Logistic Regression, using a Neural Network mindset. The following Figure explains why **Logistic Regression is actually a very simple Neural Network!**\n",
        "\n",
        "<img src=\"https://raw.githubusercontent.com/SanVik2000/EE5179-Final/main/Tutorial-2/LogReg_kiank.png\" style=\"width:650px;height:400px;\">\n",
        "\n",
        "**Mathematical expression of the algorithm**:\n",
        "\n",
        "For one example $x^{(i)}$:\n",
        "$$z^{(i)} = x^{(i)} w^T + b \\tag{1}$$\n",
        "$$\\hat{y}^{(i)} = a^{(i)} = sigmoid(z^{(i)})\\tag{2}$$ \n",
        "$$ \\mathcal{L}(a^{(i)}, y^{(i)}) =  - y^{(i)}  \\log(a^{(i)}) - (1-y^{(i)} )  \\log(1-a^{(i)})\\tag{3}$$\n",
        "\n",
        "The cost is then computed by summing over all training examples:\n",
        "$$ J = \\frac{1}{m} \\sum_{i=1}^m \\mathcal{L}(a^{(i)}, y^{(i)})\\tag{6}$$\n",
        "\n",
        "**Key steps**:\n",
        "In this exercise, you will carry out the following steps: \n",
        "    - Initialize the parameters of the model\n",
        "    - Learn the parameters for the model by minimizing the cost  \n",
        "    - Use the learned parameters to make predictions (on the test set)\n",
        "    - Analyse the results and conclude"
      ]
    },
    {
      "cell_type": "markdown",
      "metadata": {
        "id": "U4wUnuoRtwyy"
      },
      "source": [
        "## 3 - Building the parts of our algorithm ## \n",
        "\n",
        "The main steps for building a Neural Network are:\n",
        "1. Define the model structure (such as number of input features) \n",
        "2. Initialize the model's parameters\n",
        "3. Loop:\n",
        "    - Calculate current loss (forward propagation)\n",
        "    - Calculate current gradient (backward propagation)\n",
        "    - Update parameters (gradient descent)\n",
        "\n",
        "You often build 1-3 separately and integrate them into one function we call `model()`.\n",
        "\n",
        "### 3.1 - Helper functions\n",
        "\n",
        "**Exercise**: Using your code from \"Task02\", implement `sigmoid()`. As you've seen in the figure above, you need to compute $sigmoid( x w^T + b) = \\frac{1}{1 + e^{-(x w^T + b)}}$ to make predictions. Use np.exp()."
      ]
    },
    {
      "cell_type": "code",
      "execution_count": 9,
      "metadata": {
        "id": "kBjzuOFItwyy"
      },
      "outputs": [],
      "source": [
        "# GRADED FUNCTION: sigmoid\n",
        "\n",
        "def sigmoid(z):\n",
        "    \"\"\"\n",
        "    Compute the sigmoid of z\n",
        "\n",
        "    Arguments:\n",
        "    z -- A scalar or numpy array of any size.\n",
        "\n",
        "    Return:\n",
        "    s -- sigmoid(z)\n",
        "    \"\"\"\n",
        "\n",
        "    ### START CODE HERE ### (≈ 1 line of code)\n",
        "    s = 1 / (1 + np.exp(-z))\n",
        "    ### END CODE HERE ###\n",
        "    \n",
        "    return s"
      ]
    },
    {
      "cell_type": "code",
      "execution_count": 10,
      "metadata": {
        "colab": {
          "base_uri": "https://localhost:8080/"
        },
        "id": "ePwT3f8atwyz",
        "outputId": "d0a4741a-a435-40e7-9bda-fa0113fd3f72",
        "scrolled": true
      },
      "outputs": [
        {
          "output_type": "stream",
          "name": "stdout",
          "text": [
            "sigmoid([0, 2]) = [0.5        0.88079708]\n"
          ]
        }
      ],
      "source": [
        "print (\"sigmoid([0, 2]) = \" + str(sigmoid(np.array([0,2]))))"
      ]
    },
    {
      "cell_type": "markdown",
      "metadata": {
        "id": "UJpnPGD5twyz"
      },
      "source": [
        "**Expected Output**: \n",
        "\n",
        "<table>\n",
        "  <tr>\n",
        "    <td>**sigmoid([0, 2])**</td>\n",
        "    <td> [ 0.5         0.88079708]</td> \n",
        "  </tr>\n",
        "</table>"
      ]
    },
    {
      "cell_type": "markdown",
      "metadata": {
        "id": "QZvkMRwJtwyz"
      },
      "source": [
        "### 3.2 - Initializing parameters\n",
        "\n",
        "**Exercise:** Implement parameter initialization in the cell below. You have to initialize w as a vector of zeros. If you don't know what numpy function to use, look up np.zeros() in the Numpy library's documentation."
      ]
    },
    {
      "cell_type": "code",
      "execution_count": 11,
      "metadata": {
        "id": "-pf9fwKatwyz"
      },
      "outputs": [],
      "source": [
        "# GRADED FUNCTION: initialize_with_zeros\n",
        "\n",
        "def initialize_with_zeros(dim):\n",
        "    \"\"\"\n",
        "    This function creates a vector of zeros of shape (1, dim) for w and initializes b to 0.\n",
        "    \n",
        "    Argument:\n",
        "    dim -- size of the w vector we want (or number of parameters in this case)\n",
        "    \n",
        "    Returns:\n",
        "    w -- initialized vector of shape (dim, 1)\n",
        "    b -- initialized scalar (corresponds to the bias)\n",
        "    \"\"\"\n",
        "    \n",
        "    ### START CODE HERE ### (≈ 1 line of code)\n",
        "    w = np.zeros((1, dim))\n",
        "    b = 0.0  \n",
        "    ### END CODE HERE ###\n",
        "\n",
        "    assert(w.shape == (1, dim))\n",
        "    assert(isinstance(b, float) or isinstance(b, int))\n",
        "    \n",
        "    return w, b"
      ]
    },
    {
      "cell_type": "code",
      "execution_count": 12,
      "metadata": {
        "colab": {
          "base_uri": "https://localhost:8080/"
        },
        "id": "JASOkZAmtwy0",
        "outputId": "005f32d7-417c-498f-f0b5-1fb50bdad27b"
      },
      "outputs": [
        {
          "output_type": "stream",
          "name": "stdout",
          "text": [
            "w = [[0. 0.]]\n",
            "b = 0.0\n"
          ]
        }
      ],
      "source": [
        "dim = 2\n",
        "w, b = initialize_with_zeros(dim)\n",
        "print (\"w = \" + str(w))\n",
        "print (\"b = \" + str(b))"
      ]
    },
    {
      "cell_type": "markdown",
      "metadata": {
        "id": "BDrG8_BXtwy0"
      },
      "source": [
        "**Expected Output**: \n",
        "\n",
        "\n",
        "<table style=\"width:15%\">\n",
        "    <tr>\n",
        "        <td>  ** w **  </td>\n",
        "        <td> [[ 0. 0.]] </td>\n",
        "    </tr>\n",
        "    <tr>\n",
        "        <td>  ** b **  </td>\n",
        "        <td> 0 </td>\n",
        "    </tr>\n",
        "</table>\n",
        "\n",
        "For image inputs, w will be of shape (1, num_px $\\times$ num_px $\\times$ 3)."
      ]
    },
    {
      "cell_type": "markdown",
      "metadata": {
        "id": "nujEl_-Btwy0"
      },
      "source": [
        "### 3.3 - Forward and Backward propagation\n",
        "\n",
        "Now that your parameters are initialized, you can do the \"forward\" and \"backward\" propagation steps for learning the parameters.\n",
        "\n",
        "**Exercise:** Implement a function `propagate()` that computes the cost function and its gradient.\n",
        "\n",
        "**Hints**:\n",
        "\n",
        "Forward Propagation:\n",
        "- You get X\n",
        "- You compute $A = \\sigma(X w^T + b) = (a^{(1)}, a^{(2)}, ..., a^{(m-1)}, a^{(m)})$\n",
        "- You calculate the cost function: $J = -\\frac{1}{m}\\sum_{i=1}^{m}y^{(i)}\\log(a^{(i)})+(1-y^{(i)})\\log(1-a^{(i)})$\n",
        "\n",
        "Here are the two formulas you will be using: \n",
        "\n",
        "$$ \\frac{\\partial J}{\\partial w} = \\frac{1}{m}(A-Y)^TX\\tag{7}$$\n",
        "$$ \\frac{\\partial J}{\\partial b} = \\frac{1}{m} \\sum_{i=1}^m (a^{(i)}-y^{(i)})\\tag{8}$$"
      ]
    },
    {
      "cell_type": "code",
      "execution_count": 14,
      "metadata": {
        "id": "UrPYnEyvtwy0"
      },
      "outputs": [],
      "source": [
        "# GRADED FUNCTION: propagate\n",
        "def propagate(w, b, X, Y):\n",
        "    \"\"\"\n",
        "    Implement the cost function and its gradient for the propagation explained above\n",
        "\n",
        "    Arguments:\n",
        "    w -- weights, a numpy array of size (1, num_px * num_px * 3)\n",
        "    b -- bias, a scalar\n",
        "    X -- data of size (number of examples, num_px * num_px * 3)\n",
        "    Y -- true \"label\" vector (containing 0 if non-cat, 1 if cat) of size (number of examples, 1)\n",
        "\n",
        "    Return:\n",
        "    cost -- negative log-likelihood cost for logistic regression\n",
        "    dw -- gradient of the loss with respect to w, thus same shape as w\n",
        "    db -- gradient of the loss with respect to b, thus same shape as b\n",
        "    \"\"\"\n",
        "    \n",
        "    m = X.shape[0]\n",
        "    \n",
        "    # FORWARD PROPAGATION (FROM X TO COST)\n",
        "    ### START CODE HERE ### (≈ 2 lines of code)\n",
        "    A =  sigmoid(np.dot(X, w.T) + b) # compute activation\n",
        "    cost =  -(Y*np.log(A) + (1 - Y)*np.log(1 - A)).mean() # compute cost\n",
        "    ### END CODE HERE ###\n",
        "    \n",
        "    # BACKWARD PROPAGATION (TO FIND GRAD)\n",
        "    ### START CODE HERE ### (≈ 2 lines of code)\n",
        "    dw = np.dot((A - Y).T, X) / m \n",
        "    db = (A - Y).mean()\n",
        "    ### END CODE HERE ###\n",
        "\n",
        "    assert(dw.shape == w.shape)\n",
        "    assert(db.dtype == float)\n",
        "    cost = np.squeeze(cost)\n",
        "    assert(cost.shape == ())\n",
        "    \n",
        "    grads = {\"dw\": dw,\n",
        "             \"db\": db}\n",
        "    \n",
        "    return grads, cost"
      ]
    },
    {
      "cell_type": "code",
      "execution_count": 15,
      "metadata": {
        "colab": {
          "base_uri": "https://localhost:8080/"
        },
        "id": "49uRotUntwy1",
        "outputId": "38a61099-f2ea-4d6e-bb93-cb2f43a134a5"
      },
      "outputs": [
        {
          "output_type": "stream",
          "name": "stdout",
          "text": [
            "W Shape :  (1, 2)\n",
            "X Shape :  (3, 2)\n",
            "Y Shape :  (3, 1) \n",
            "\n",
            "dw = [[-1.13158355  1.63708175]]\n",
            "db = 0.13316341249958227\n",
            "cost = 2.6382793951025163\n"
          ]
        }
      ],
      "source": [
        "w, b, X, Y = np.array([[1.,2.]]), 2., np.array([[1.,2.],[-1.,3.],[4.,-3.2]]), np.array([[1],[0],[1]])\n",
        "print(\"W Shape : \" , w.shape)\n",
        "print(\"X Shape : \" , X.shape)\n",
        "print(\"Y Shape : \" , Y.shape, \"\\n\")\n",
        "\n",
        "grads, cost = propagate(w, b, X, Y)\n",
        "print (\"dw = \" + str(grads[\"dw\"]))\n",
        "print (\"db = \" + str(grads[\"db\"]))\n",
        "print (\"cost = \" + str(cost))"
      ]
    },
    {
      "cell_type": "markdown",
      "metadata": {
        "id": "UFdIaYIVtwy1"
      },
      "source": [
        "**Expected Output**:\n",
        "\n",
        "<table style=\"width:50%\">\n",
        "    <tr>\n",
        "        <td>  ** dw **  </td>\n",
        "      <td> [[ 0.99845601]\n",
        "     [ 2.39507239]]</td>\n",
        "    </tr>\n",
        "    <tr>\n",
        "        <td>  ** db **  </td>\n",
        "        <td> 0.00145557813678 </td>\n",
        "    </tr>\n",
        "    <tr>\n",
        "        <td>  ** cost **  </td>\n",
        "        <td> 5.801545319394553 </td>\n",
        "    </tr>\n",
        "\n",
        "</table>"
      ]
    },
    {
      "cell_type": "markdown",
      "metadata": {
        "id": "E6BZx7Yytwy1"
      },
      "source": [
        "### 3.4 - Optimization\n",
        "- You have initialized your parameters.\n",
        "- You are also able to compute a cost function and its gradient.\n",
        "- Now, you want to update the parameters using gradient descent.\n",
        "\n",
        "**Exercise:** Write down the optimization function. The goal is to learn $w$ and $b$ by minimizing the cost function $J$. For a parameter $\\theta$, the update rule is $ \\theta = \\theta - \\alpha \\text{ } d\\theta$, where $\\alpha$ is the learning rate."
      ]
    },
    {
      "cell_type": "code",
      "execution_count": 16,
      "metadata": {
        "id": "LnLyaS26twy1"
      },
      "outputs": [],
      "source": [
        "# GRADED FUNCTION: optimize\n",
        "\n",
        "def optimize(w, b, X, Y, num_iterations, learning_rate, print_cost = False):\n",
        "    \"\"\"\n",
        "    This function optimizes w and b by running a gradient descent algorithm\n",
        "    \n",
        "    Arguments:\n",
        "    w -- weights, a numpy array of size (1, num_px * num_px * 3)\n",
        "    b -- bias, a scalar\n",
        "    X -- data of shape (number of examples, num_px * num_px * 3)\n",
        "    Y -- true \"label\" vector (containing 0 if non-cat, 1 if cat), of shape (number of examples, 1)\n",
        "    num_iterations -- number of iterations of the optimization loop\n",
        "    learning_rate -- learning rate of the gradient descent update rule\n",
        "    print_cost -- True to print the loss every 100 steps\n",
        "    \n",
        "    Returns:\n",
        "    params -- dictionary containing the weights w and bias b\n",
        "    grads -- dictionary containing the gradients of the weights and bias with respect to the cost function\n",
        "    costs -- list of all the costs computed during the optimization, this will be used to plot the learning curve.\n",
        "    \n",
        "    Tips:\n",
        "    You basically need to write down two steps and iterate through them:\n",
        "        1) Calculate the cost and the gradient for the current parameters. Use propagate().\n",
        "        2) Update the parameters using gradient descent rule for w and b.\n",
        "    \"\"\"\n",
        "    \n",
        "    costs = []\n",
        "    \n",
        "    for i in range(num_iterations):\n",
        "        \n",
        "        \n",
        "        # Cost and gradient calculation (≈ 1-4 lines of code)\n",
        "        ### START CODE HERE ### \n",
        "        grads, cost = propagate(w, b, X, Y)\n",
        "        ### END CODE HERE ###\n",
        "        \n",
        "        # Retrieve derivatives from grads\n",
        "        dw = grads[\"dw\"]\n",
        "        db = grads[\"db\"]\n",
        "        \n",
        "        # update rule (≈ 2 lines of code)\n",
        "        ### START CODE HERE ###\n",
        "        w -= learning_rate * dw\n",
        "        b -= learning_rate * db\n",
        "        ### END CODE HERE ###\n",
        "        \n",
        "        # Record the costs\n",
        "        if i % 100 == 0:\n",
        "            costs.append(cost)\n",
        "        \n",
        "        # Print the cost every 100 training iterations\n",
        "        if print_cost and i % 100 == 0:\n",
        "            print (\"Cost after iteration %i: %f\" %(i, cost))\n",
        "    \n",
        "    params = {\"w\": w,\n",
        "              \"b\": b}\n",
        "    \n",
        "    grads = {\"dw\": dw,\n",
        "             \"db\": db}\n",
        "    \n",
        "    return params, grads, costs"
      ]
    },
    {
      "cell_type": "code",
      "execution_count": 17,
      "metadata": {
        "colab": {
          "base_uri": "https://localhost:8080/"
        },
        "id": "IIUsl0GNtwy2",
        "outputId": "23d7b36c-f492-418e-9d71-98646b0b2dc8"
      },
      "outputs": [
        {
          "output_type": "stream",
          "name": "stdout",
          "text": [
            "w = [[ 2.27089741 -0.55623518]]\n",
            "b = 1.2977395794272832\n",
            "dw = [[-0.04852213  0.01387587]]\n",
            "db = -0.00415666345349916\n"
          ]
        }
      ],
      "source": [
        "params, grads, costs = optimize(w, b, X, Y, num_iterations= 1000, learning_rate = 0.009, print_cost = False)\n",
        "\n",
        "print (\"w = \" + str(params[\"w\"]))\n",
        "print (\"b = \" + str(params[\"b\"]))\n",
        "print (\"dw = \" + str(grads[\"dw\"]))\n",
        "print (\"db = \" + str(grads[\"db\"]))"
      ]
    },
    {
      "cell_type": "code",
      "execution_count": 18,
      "metadata": {
        "colab": {
          "base_uri": "https://localhost:8080/",
          "height": 282
        },
        "id": "6oTD7A4dtwy2",
        "outputId": "8f2a1f17-2073-4b1c-bc1f-5e1d1c6dfe26"
      },
      "outputs": [
        {
          "output_type": "execute_result",
          "data": {
            "text/plain": [
              "[<matplotlib.lines.Line2D at 0x7fc104fc4090>]"
            ]
          },
          "metadata": {},
          "execution_count": 18
        },
        {
          "output_type": "display_data",
          "data": {
            "text/plain": [
              "<Figure size 432x288 with 1 Axes>"
            ],
            "image/png": "[encoded data removed]"
          },
          "metadata": {
            "needs_background": "light"
          }
        }
      ],
      "source": [
        "import matplotlib.pyplot as plt\n",
        "plt.plot(costs)"
      ]
    },
    {
      "cell_type": "markdown",
      "metadata": {
        "id": "Yozz5Nr5twy2"
      },
      "source": [
        "**Exercise:** The previous function will output the learned w and b. We are able to use w and b to predict the labels for a dataset X. Implement the `predict()` function. There are two steps to computing predictions:\n",
        "\n",
        "1. Calculate $\\hat{Y} = A = \\sigma(X w^T + b)$\n",
        "\n",
        "2. Convert the entries of a into 0 (if activation <= 0.5) or 1 (if activation > 0.5), stores the predictions in a vector `Y_prediction`. If you wish, you can use an `if`/`else` statement in a `for` loop (though there is also a way to vectorize this). "
      ]
    },
    {
      "cell_type": "code",
      "execution_count": 19,
      "metadata": {
        "id": "uSQMDrmwtwy3"
      },
      "outputs": [],
      "source": [
        "# GRADED FUNCTION: predict\n",
        "\n",
        "def predict(w, b, X):\n",
        "    '''\n",
        "    Predict whether the label is 0 or 1 using learned logistic regression parameters (w, b)\n",
        "    \n",
        "    Arguments:\n",
        "    w -- weights, a numpy array of size (1, num_px * num_px * 3)\n",
        "    b -- bias, a scalar\n",
        "    X -- data of size (number of examples, num_px * num_px * 3)\n",
        "    \n",
        "    Returns:\n",
        "    Y_prediction -- a numpy array (vector) containing all predictions (0/1) for the examples in X\n",
        "    '''\n",
        "    \n",
        "    m = X.shape[0]\n",
        "    Y_prediction = np.zeros((m, 1))\n",
        "    \n",
        "    # Compute vector \"A\" predicting the probabilities of a cat being present in the picture\n",
        "    ### START CODE HERE ### (≈ 1 line of code)\n",
        "    A =  sigmoid(np.dot(X, w.T) + b) # Dimentions = (m, 1)\n",
        "    ### END CODE HERE ###\n",
        "    \n",
        "    #### VECTORISED IMPLEMENTATION ####\n",
        "    Y_prediction = (A >= 0.5) * 1.0\n",
        "    \n",
        "    assert(Y_prediction.shape == (m, 1))\n",
        "    \n",
        "    return Y_prediction"
      ]
    },
    {
      "cell_type": "code",
      "execution_count": 20,
      "metadata": {
        "colab": {
          "base_uri": "https://localhost:8080/"
        },
        "id": "uytS6tCXtwy3",
        "outputId": "18bc16d0-e47a-4ee5-e852-0e802951b8f7"
      },
      "outputs": [
        {
          "output_type": "stream",
          "name": "stdout",
          "text": [
            "predictions = [[1.]\n",
            " [0.]\n",
            " [1.]]\n"
          ]
        }
      ],
      "source": [
        "w = np.array([[2.46915585, -0.59357113]])\n",
        "b = 1.322892868548117\n",
        "X = np.array([[1.,-1.1],[-3.2,1.2],[2.,0.1]])\n",
        "print (\"predictions = \" + str(predict(w, b, X)))"
      ]
    },
    {
      "cell_type": "markdown",
      "metadata": {
        "id": "3R440WmHtwy3"
      },
      "source": [
        "<font color='blue'>\n",
        "**What to remember:**\n",
        "You've implemented several functions that:\n",
        "- Initialize (w,b)\n",
        "- Optimize the loss iteratively to learn parameters (w,b):\n",
        "    - computing the cost and its gradient \n",
        "    - updating the parameters using gradient descent\n",
        "- Use the learned (w,b) to predict the labels for a given set of examples"
      ]
    },
    {
      "cell_type": "markdown",
      "metadata": {
        "id": "N_o0I_vwtwy3"
      },
      "source": [
        "## 4 - Merge all functions into a model ##\n",
        "\n",
        "You will now see how the overall model is structured by putting together all the building blocks (functions implemented in the previous parts) together, in the right order."
      ]
    },
    {
      "cell_type": "code",
      "execution_count": 21,
      "metadata": {
        "id": "YTOCeNYStwy3"
      },
      "outputs": [],
      "source": [
        "# GRADED FUNCTION: model\n",
        "\n",
        "def model(X_train, Y_train, X_test, Y_test, num_iterations = 2000, learning_rate = 0.5, print_cost = False):\n",
        "    \"\"\"\n",
        "    Builds the logistic regression model by calling the function you've implemented previously\n",
        "    \n",
        "    Arguments:\n",
        "    X_train -- training set represented by a numpy array of shape (m_train, num_px * num_px * 3)\n",
        "    Y_train -- training labels represented by a numpy array (vector) of shape (m_train, 1)\n",
        "    X_test -- test set represented by a numpy array of shape (m_test, num_px * num_px * 3)\n",
        "    Y_test -- test labels represented by a numpy array (vector) of shape (m_test, 1)\n",
        "    num_iterations -- hyperparameter representing the number of iterations to optimize the parameters\n",
        "    learning_rate -- hyperparameter representing the learning rate used in the update rule of optimize()\n",
        "    print_cost -- Set to true to print the cost every 100 iterations\n",
        "    \n",
        "    Returns:\n",
        "    d -- dictionary containing information about the model.\n",
        "    \"\"\"\n",
        "    \n",
        "    ### START CODE HERE ###\n",
        "    m, dim = X_train.shape\n",
        "    # initialize parameters with zeros (≈ 1 line of code)\n",
        "    w, b = initialize_with_zeros(dim) \n",
        "\n",
        "    # Gradient descent (≈ 1 line of code)\n",
        "    parameters, grads, costs = optimize(w, b, X_train, Y_train, num_iterations, learning_rate, print_cost = print_cost)\n",
        "    \n",
        "    # Retrieve parameters w and b from dictionary \"parameters\"\n",
        "    w = parameters[\"w\"]\n",
        "    b = parameters[\"b\"]\n",
        "    \n",
        "    # Predict test/train set examples (≈ 2 lines of code)\n",
        "    Y_prediction_test = predict(w, b, X_test)\n",
        "    Y_prediction_train = predict(w, b, X_train)\n",
        "    ### END CODE HERE ###\n",
        "\n",
        "    # Print train/test Errors\n",
        "    print(\"train accuracy: {} %\".format(100 - np.mean(np.abs(Y_prediction_train - Y_train)) * 100))\n",
        "    print(\"test accuracy: {} %\".format(100 - np.mean(np.abs(Y_prediction_test - Y_test)) * 100))\n",
        "\n",
        "    \n",
        "    d = {\"costs\": costs,\n",
        "         \"Y_prediction_test\": Y_prediction_test, \n",
        "         \"Y_prediction_train\" : Y_prediction_train, \n",
        "         \"w\" : w, \n",
        "         \"b\" : b,\n",
        "         \"learning_rate\" : learning_rate,\n",
        "         \"num_iterations\": num_iterations}\n",
        "    \n",
        "    return d"
      ]
    },
    {
      "cell_type": "markdown",
      "metadata": {
        "id": "ZdF0IMtXtwy4"
      },
      "source": [
        "Run the following cell to train your model."
      ]
    },
    {
      "cell_type": "code",
      "execution_count": 25,
      "metadata": {
        "colab": {
          "base_uri": "https://localhost:8080/"
        },
        "id": "2XwUiu5Stwy4",
        "outputId": "5c7119f8-46f6-4d73-a426-545e1dd52014"
      },
      "outputs": [
        {
          "output_type": "stream",
          "name": "stdout",
          "text": [
            "Cost after iteration 0: 0.693147\n"
          ]
        },
        {
          "output_type": "stream",
          "name": "stderr",
          "text": [
            "/usr/local/lib/python3.7/dist-packages/ipykernel_launcher.py:23: RuntimeWarning: divide by zero encountered in log\n",
            "/usr/local/lib/python3.7/dist-packages/ipykernel_launcher.py:23: RuntimeWarning: invalid value encountered in multiply\n"
          ]
        },
        {
          "output_type": "stream",
          "name": "stdout",
          "text": [
            "Cost after iteration 100: 1.025272\n",
            "Cost after iteration 200: 10.755509\n",
            "Cost after iteration 300: 0.379580\n",
            "Cost after iteration 400: 0.197398\n",
            "Cost after iteration 500: 0.114301\n",
            "Cost after iteration 600: 3.734292\n",
            "Cost after iteration 700: 1.691741\n",
            "Cost after iteration 800: 0.071283\n",
            "Cost after iteration 900: 0.024304\n",
            "Cost after iteration 1000: 0.014616\n",
            "Cost after iteration 1100: 0.010558\n",
            "Cost after iteration 1200: 0.008411\n",
            "Cost after iteration 1300: 0.007087\n",
            "Cost after iteration 1400: 0.006187\n",
            "Cost after iteration 1500: 0.005533\n",
            "Cost after iteration 1600: 0.005035\n",
            "Cost after iteration 1700: 0.004642\n",
            "Cost after iteration 1800: 0.004324\n",
            "Cost after iteration 1900: 0.004059\n",
            "Cost after iteration 2000: 0.003836\n",
            "Cost after iteration 2100: 0.003644\n",
            "Cost after iteration 2200: 0.003478\n",
            "Cost after iteration 2300: 0.003331\n",
            "Cost after iteration 2400: 0.003200\n",
            "Cost after iteration 2500: 0.003082\n",
            "Cost after iteration 2600: 0.002976\n",
            "Cost after iteration 2700: 0.002879\n",
            "Cost after iteration 2800: 0.002789\n",
            "Cost after iteration 2900: 0.002707\n",
            "Cost after iteration 3000: 0.002631\n",
            "Cost after iteration 3100: 0.002560\n",
            "Cost after iteration 3200: 0.002494\n",
            "Cost after iteration 3300: 0.002432\n",
            "Cost after iteration 3400: 0.002374\n",
            "Cost after iteration 3500: 0.002319\n",
            "Cost after iteration 3600: 0.002267\n",
            "Cost after iteration 3700: 0.002218\n",
            "Cost after iteration 3800: 0.002172\n",
            "Cost after iteration 3900: 0.002127\n",
            "Cost after iteration 4000: 0.002085\n",
            "Cost after iteration 4100: 0.002045\n",
            "Cost after iteration 4200: 0.002007\n",
            "Cost after iteration 4300: 0.001970\n",
            "Cost after iteration 4400: 0.001935\n",
            "Cost after iteration 4500: 0.001902\n",
            "Cost after iteration 4600: 0.001870\n",
            "Cost after iteration 4700: 0.001839\n",
            "Cost after iteration 4800: 0.001809\n",
            "Cost after iteration 4900: 0.001781\n",
            "Cost after iteration 5000: 0.001753\n",
            "Cost after iteration 5100: 0.001727\n",
            "Cost after iteration 5200: 0.001701\n",
            "Cost after iteration 5300: 0.001677\n",
            "Cost after iteration 5400: 0.001653\n",
            "Cost after iteration 5500: 0.001630\n",
            "Cost after iteration 5600: 0.001608\n",
            "Cost after iteration 5700: 0.001586\n",
            "Cost after iteration 5800: 0.001565\n",
            "Cost after iteration 5900: 0.001545\n",
            "Cost after iteration 6000: 0.001526\n",
            "Cost after iteration 6100: 0.001507\n",
            "Cost after iteration 6200: 0.001489\n",
            "Cost after iteration 6300: 0.001471\n",
            "Cost after iteration 6400: 0.001453\n",
            "Cost after iteration 6500: 0.001436\n",
            "Cost after iteration 6600: 0.001420\n",
            "Cost after iteration 6700: 0.001404\n",
            "Cost after iteration 6800: 0.001389\n",
            "Cost after iteration 6900: 0.001374\n",
            "Cost after iteration 7000: 0.001359\n",
            "Cost after iteration 7100: 0.001345\n",
            "Cost after iteration 7200: 0.001331\n",
            "Cost after iteration 7300: 0.001317\n",
            "Cost after iteration 7400: 0.001304\n",
            "Cost after iteration 7500: 0.001291\n",
            "Cost after iteration 7600: 0.001278\n",
            "Cost after iteration 7700: 0.001266\n",
            "Cost after iteration 7800: 0.001254\n",
            "Cost after iteration 7900: 0.001242\n",
            "Cost after iteration 8000: 0.001231\n",
            "Cost after iteration 8100: 0.001219\n",
            "Cost after iteration 8200: 0.001208\n",
            "Cost after iteration 8300: 0.001198\n",
            "Cost after iteration 8400: 0.001187\n",
            "Cost after iteration 8500: 0.001177\n",
            "Cost after iteration 8600: 0.001167\n",
            "Cost after iteration 8700: 0.001157\n",
            "Cost after iteration 8800: 0.001147\n",
            "Cost after iteration 8900: 0.001138\n",
            "Cost after iteration 9000: 0.001128\n",
            "Cost after iteration 9100: 0.001119\n",
            "Cost after iteration 9200: 0.001110\n",
            "Cost after iteration 9300: 0.001101\n",
            "Cost after iteration 9400: 0.001093\n",
            "Cost after iteration 9500: 0.001084\n",
            "Cost after iteration 9600: 0.001076\n",
            "Cost after iteration 9700: 0.001068\n",
            "Cost after iteration 9800: 0.001060\n",
            "Cost after iteration 9900: 0.001052\n",
            "Cost after iteration 10000: 0.001044\n",
            "Cost after iteration 10100: 0.001037\n",
            "Cost after iteration 10200: 0.001029\n",
            "Cost after iteration 10300: 0.001022\n",
            "Cost after iteration 10400: 0.001015\n",
            "Cost after iteration 10500: 0.001008\n",
            "Cost after iteration 10600: 0.001001\n",
            "Cost after iteration 10700: 0.000994\n",
            "Cost after iteration 10800: 0.000987\n",
            "Cost after iteration 10900: 0.000981\n",
            "Cost after iteration 11000: 0.000974\n",
            "Cost after iteration 11100: 0.000968\n",
            "Cost after iteration 11200: 0.000961\n",
            "Cost after iteration 11300: 0.000955\n",
            "Cost after iteration 11400: 0.000949\n",
            "Cost after iteration 11500: 0.000943\n",
            "Cost after iteration 11600: 0.000937\n",
            "Cost after iteration 11700: 0.000931\n",
            "Cost after iteration 11800: 0.000926\n",
            "Cost after iteration 11900: 0.000920\n",
            "Cost after iteration 12000: 0.000914\n",
            "Cost after iteration 12100: 0.000909\n",
            "Cost after iteration 12200: 0.000903\n",
            "Cost after iteration 12300: 0.000898\n",
            "Cost after iteration 12400: 0.000893\n",
            "Cost after iteration 12500: 0.000887\n",
            "Cost after iteration 12600: 0.000882\n",
            "Cost after iteration 12700: 0.000877\n",
            "Cost after iteration 12800: 0.000872\n",
            "Cost after iteration 12900: 0.000867\n",
            "Cost after iteration 13000: 0.000862\n",
            "Cost after iteration 13100: 0.000858\n",
            "Cost after iteration 13200: 0.000853\n",
            "Cost after iteration 13300: 0.000848\n",
            "Cost after iteration 13400: 0.000844\n",
            "Cost after iteration 13500: 0.000839\n",
            "Cost after iteration 13600: 0.000835\n",
            "Cost after iteration 13700: 0.000830\n",
            "Cost after iteration 13800: 0.000826\n",
            "Cost after iteration 13900: 0.000821\n",
            "Cost after iteration 14000: 0.000817\n",
            "Cost after iteration 14100: 0.000813\n",
            "Cost after iteration 14200: 0.000809\n",
            "Cost after iteration 14300: 0.000804\n",
            "Cost after iteration 14400: 0.000800\n",
            "Cost after iteration 14500: 0.000796\n",
            "Cost after iteration 14600: 0.000792\n",
            "Cost after iteration 14700: 0.000788\n",
            "Cost after iteration 14800: 0.000785\n",
            "Cost after iteration 14900: 0.000781\n",
            "Cost after iteration 15000: 0.000777\n",
            "Cost after iteration 15100: 0.000773\n",
            "Cost after iteration 15200: 0.000769\n",
            "Cost after iteration 15300: 0.000766\n",
            "Cost after iteration 15400: 0.000762\n",
            "Cost after iteration 15500: 0.000758\n",
            "Cost after iteration 15600: 0.000755\n",
            "Cost after iteration 15700: 0.000751\n",
            "Cost after iteration 15800: 0.000748\n",
            "Cost after iteration 15900: 0.000744\n",
            "Cost after iteration 16000: 0.000741\n",
            "Cost after iteration 16100: 0.000738\n",
            "Cost after iteration 16200: 0.000734\n",
            "Cost after iteration 16300: 0.000731\n",
            "Cost after iteration 16400: 0.000728\n",
            "Cost after iteration 16500: 0.000725\n",
            "Cost after iteration 16600: 0.000721\n",
            "Cost after iteration 16700: 0.000718\n",
            "Cost after iteration 16800: 0.000715\n",
            "Cost after iteration 16900: 0.000712\n",
            "Cost after iteration 17000: 0.000709\n",
            "Cost after iteration 17100: 0.000706\n",
            "Cost after iteration 17200: 0.000703\n",
            "Cost after iteration 17300: 0.000700\n",
            "Cost after iteration 17400: 0.000697\n",
            "Cost after iteration 17500: 0.000694\n",
            "Cost after iteration 17600: 0.000691\n",
            "Cost after iteration 17700: 0.000688\n",
            "Cost after iteration 17800: 0.000685\n",
            "Cost after iteration 17900: 0.000683\n",
            "Cost after iteration 18000: 0.000680\n",
            "Cost after iteration 18100: 0.000677\n",
            "Cost after iteration 18200: 0.000674\n",
            "Cost after iteration 18300: 0.000672\n",
            "Cost after iteration 18400: 0.000669\n",
            "Cost after iteration 18500: 0.000666\n",
            "Cost after iteration 18600: 0.000664\n",
            "Cost after iteration 18700: 0.000661\n",
            "Cost after iteration 18800: 0.000659\n",
            "Cost after iteration 18900: 0.000656\n",
            "Cost after iteration 19000: 0.000653\n",
            "Cost after iteration 19100: 0.000651\n",
            "Cost after iteration 19200: 0.000648\n",
            "Cost after iteration 19300: 0.000646\n",
            "Cost after iteration 19400: 0.000644\n",
            "Cost after iteration 19500: 0.000641\n",
            "Cost after iteration 19600: 0.000639\n",
            "Cost after iteration 19700: 0.000636\n",
            "Cost after iteration 19800: 0.000634\n",
            "Cost after iteration 19900: 0.000632\n",
            "Cost after iteration 20000: 0.000629\n",
            "Cost after iteration 20100: 0.000627\n",
            "Cost after iteration 20200: 0.000625\n",
            "Cost after iteration 20300: 0.000622\n",
            "Cost after iteration 20400: 0.000620\n",
            "Cost after iteration 20500: 0.000618\n",
            "Cost after iteration 20600: 0.000616\n",
            "Cost after iteration 20700: 0.000614\n",
            "Cost after iteration 20800: 0.000611\n",
            "Cost after iteration 20900: 0.000609\n",
            "Cost after iteration 21000: 0.000607\n",
            "Cost after iteration 21100: 0.000605\n",
            "Cost after iteration 21200: 0.000603\n",
            "Cost after iteration 21300: 0.000601\n",
            "Cost after iteration 21400: 0.000599\n",
            "Cost after iteration 21500: 0.000597\n",
            "Cost after iteration 21600: 0.000595\n",
            "Cost after iteration 21700: 0.000593\n",
            "Cost after iteration 21800: 0.000591\n",
            "Cost after iteration 21900: 0.000589\n",
            "Cost after iteration 22000: 0.000587\n",
            "Cost after iteration 22100: 0.000585\n",
            "Cost after iteration 22200: 0.000583\n",
            "Cost after iteration 22300: 0.000581\n",
            "Cost after iteration 22400: 0.000579\n",
            "Cost after iteration 22500: 0.000577\n",
            "Cost after iteration 22600: 0.000575\n",
            "Cost after iteration 22700: 0.000573\n",
            "Cost after iteration 22800: 0.000572\n",
            "Cost after iteration 22900: 0.000570\n",
            "Cost after iteration 23000: 0.000568\n",
            "Cost after iteration 23100: 0.000566\n",
            "Cost after iteration 23200: 0.000564\n",
            "Cost after iteration 23300: 0.000562\n",
            "Cost after iteration 23400: 0.000561\n",
            "Cost after iteration 23500: 0.000559\n",
            "Cost after iteration 23600: 0.000557\n",
            "Cost after iteration 23700: 0.000555\n",
            "Cost after iteration 23800: 0.000554\n",
            "Cost after iteration 23900: 0.000552\n",
            "Cost after iteration 24000: 0.000550\n",
            "Cost after iteration 24100: 0.000549\n",
            "Cost after iteration 24200: 0.000547\n",
            "Cost after iteration 24300: 0.000545\n",
            "Cost after iteration 24400: 0.000544\n",
            "Cost after iteration 24500: 0.000542\n",
            "Cost after iteration 24600: 0.000540\n",
            "Cost after iteration 24700: 0.000539\n",
            "Cost after iteration 24800: 0.000537\n",
            "Cost after iteration 24900: 0.000536\n",
            "train accuracy: 100.0 %\n",
            "test accuracy: 66.0 %\n"
          ]
        }
      ],
      "source": [
        "d = model(train_set_x, train_set_y, test_set_x, test_set_y, num_iterations = 25000, learning_rate = 0.05, print_cost = True)"
      ]
    },
    {
      "cell_type": "markdown",
      "metadata": {
        "id": "eyD33zoCtwy4"
      },
      "source": [
        "**Expected Output**: \n",
        "<table style=\"width:40%\"> \n",
        "    <tr>\n",
        "        <td> **Cost after iteration 0 **  </td> \n",
        "        <td> 0.693147 </td>\n",
        "    </tr>\n",
        "      <tr>\n",
        "        <td> <center> $\\vdots$ </center> </td> \n",
        "        <td> <center> $\\vdots$ </center> </td> \n",
        "    </tr>  \n",
        "    <tr>\n",
        "        <td> **Train Accuracy**  </td> \n",
        "        <td> 99.04306220095694 % </td>\n",
        "    </tr>\n",
        "    <tr>\n",
        "        <td>**Test Accuracy** </td> \n",
        "        <td> 70.0 % </td>\n",
        "    </tr>\n",
        "</table> "
      ]
    },
    {
      "cell_type": "markdown",
      "metadata": {
        "id": "6ejjGhVntwy4"
      },
      "source": [
        "**Comment**: Training accuracy is close to 100%. This is a good sanity check: your model is working and has high enough capacity to fit the training data. Test accuracy is 68%. It is actually not bad for this simple model, given the small dataset we used and that logistic regression is a linear classifier. "
      ]
    },
    {
      "cell_type": "code",
      "execution_count": 26,
      "metadata": {
        "colab": {
          "base_uri": "https://localhost:8080/",
          "height": 285
        },
        "id": "zkNzO4_itwy5",
        "outputId": "c6bcee13-d16e-42a4-bb64-92fe114e2c60"
      },
      "outputs": [
        {
          "output_type": "stream",
          "name": "stdout",
          "text": [
            "y = 1, you predicted that it is a \"cat\" picture.\n"
          ]
        },
        {
          "output_type": "display_data",
          "data": {
            "text/plain": [
              "<Figure size 432x288 with 1 Axes>"
            ],
            "image/png": "[encoded data removed]"
          },
          "metadata": {
            "needs_background": "light"
          }
        }
      ],
      "source": [
        "# Example of a picture that was wrongly classified.\n",
        "index = 25\n",
        "plt.imshow(test_set_x[index, :].reshape((num_px, num_px, 3)))\n",
        "print (\"y = \" + str(test_set_y[index, 0]) + \", you predicted that it is a \\\"\" + classes[int(d[\"Y_prediction_test\"][index][0])].decode(\"utf-8\") +  \"\\\" picture.\")"
      ]
    },
    {
      "cell_type": "markdown",
      "metadata": {
        "id": "NcnO_afctwy5"
      },
      "source": [
        "Let's also plot the cost function and the gradients."
      ]
    },
    {
      "cell_type": "code",
      "execution_count": 27,
      "metadata": {
        "colab": {
          "base_uri": "https://localhost:8080/",
          "height": 295
        },
        "id": "gxTMRHVotwy5",
        "outputId": "5a30e966-ee87-4ab4-e0b6-d95efb134e28"
      },
      "outputs": [
        {
          "output_type": "display_data",
          "data": {
            "text/plain": [
              "<Figure size 432x288 with 1 Axes>"
            ],
            "image/png": "[encoded data removed]"
          },
          "metadata": {
            "needs_background": "light"
          }
        }
      ],
      "source": [
        "# Plot learning curve (with costs)\n",
        "costs = np.squeeze(d['costs'])\n",
        "plt.plot(costs)\n",
        "plt.ylabel('cost')\n",
        "plt.xlabel('iterations (per hundreds)')\n",
        "plt.title(\"Learning rate =\" + str(d[\"learning_rate\"]))\n",
        "plt.show()"
      ]
    },
    {
      "cell_type": "markdown",
      "metadata": {
        "id": "TylVMGAItwy5"
      },
      "source": [
        "**Interpretation**:\n",
        "You can see the cost decreasing. It shows that the parameters are being learned. However, you see that you could train the model even more on the training set. Try to increase the number of iterations in the cell above and rerun the cells. You might see that the training set accuracy goes up, but the test set accuracy goes down. This is called overfitting. "
      ]
    }
  ],
  "metadata": {
    "colab": {
      "name": "Task03 - Image Classification from Scratch.ipynb",
      "provenance": []
    },
    "coursera": {
      "course_slug": "neural-networks-deep-learning",
      "graded_item_id": "XaIWT",
      "launcher_item_id": "zAgPl"
    },
    "kernelspec": {
      "display_name": "Python 3 (ipykernel)",
      "language": "python",
      "name": "python3"
    },
    "language_info": {
      "codemirror_mode": {
        "name": "ipython",
        "version": 3
      },
      "file_extension": ".py",
      "mimetype": "text/x-python",
      "name": "python",
      "nbconvert_exporter": "python",
      "pygments_lexer": "ipython3",
      "version": "3.8.10"
    },
    "varInspector": {
      "cols": {
        "lenName": 16,
        "lenType": 16,
        "lenVar": 40
      },
      "kernels_config": {
        "python": {
          "delete_cmd_postfix": "",
          "delete_cmd_prefix": "del ",
          "library": "var_list.py",
          "varRefreshCmd": "print(var_dic_list())"
        },
        "r": {
          "delete_cmd_postfix": ") ",
          "delete_cmd_prefix": "rm(",
          "library": "var_list.r",
          "varRefreshCmd": "cat(var_dic_list()) "
        }
      },
      "oldHeight": 213.4,
      "position": {
        "height": "235.4px",
        "left": "1160px",
        "right": "20px",
        "top": "126px",
        "width": "350px"
      },
      "types_to_exclude": [
        "module",
        "function",
        "builtin_function_or_method",
        "instance",
        "_Feature"
      ],
      "varInspector_section_display": "block",
      "window_display": false
    }
  },
  "nbformat": 4,
  "nbformat_minor": 0
}