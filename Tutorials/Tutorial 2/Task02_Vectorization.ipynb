{
  "cells": [
    {
      "cell_type": "markdown",
      "metadata": {
        "id": "zO61GsigpvaL"
      },
      "source": [
        "# Vectorization with Numpy\n",
        "\n",
        "This tutorial will give you a brief introduction to vectorization and how Numpy helps in this process. \n",
        "Let's get started!"
      ]
    },
    {
      "cell_type": "code",
      "execution_count": 1,
      "metadata": {
        "colab": {
          "base_uri": "https://localhost:8080/"
        },
        "id": "ajLFVuRTrvaY",
        "outputId": "a0b4ce40-b6df-4261-cf7e-a43c8e47faa7"
      },
      "outputs": [
        {
          "output_type": "stream",
          "name": "stdout",
          "text": [
            "Cloning into 'EE5179-Final'...\n",
            "remote: Enumerating objects: 70, done.\u001b[K\n",
            "remote: Counting objects: 100% (11/11), done.\u001b[K\n",
            "remote: Compressing objects: 100% (11/11), done.\u001b[K\n",
            "remote: Total 70 (delta 4), reused 0 (delta 0), pack-reused 59\u001b[K\n",
            "Unpacking objects: 100% (70/70), done.\n"
          ]
        }
      ],
      "source": [
        "!git clone https://github.com/SanVik2000/EE5179-Final.git"
      ]
    },
    {
      "cell_type": "markdown",
      "metadata": {
        "id": "33h3VoFKpvaP"
      },
      "source": [
        "## 1 - Building basic functions with numpy ##\n",
        "\n",
        "Numpy is the main package for scientific computing in Python. It is maintained by a large community (www.numpy.org). In this exercise you will learn several key numpy functions such as np.exp, np.log, and np.reshape. You will need to know how to use these functions for future assignments.\n",
        "\n",
        "### 1.1 - sigmoid function, np.exp() ###\n",
        "\n",
        "Before using np.exp(), you will use math.exp() to implement the sigmoid function. You will then see why np.exp() is preferable to math.exp().\n",
        "\n",
        "**Exercise**: Build a function that returns the sigmoid of a real number x. Use math.exp(x) for the exponential function.\n",
        "\n",
        "**Reminder**:\n",
        "$sigmoid(x) = \\frac{1}{1+e^{-x}}$ is sometimes also known as the logistic function. It is a non-linear function used not only in Machine Learning (Logistic Regression), but also in Deep Learning.\n",
        "\n",
        "<img src=\"https://raw.githubusercontent.com/SanVik2000/EE5179-Final/main/Tutorial-2/Sigmoid.png\" style=\"width:500px;height:228px;\">\n",
        "\n",
        "To refer to a function belonging to a specific package you could call it using package_name.function(). Run the code below to see an example with math.exp()."
      ]
    },
    {
      "cell_type": "code",
      "execution_count": 4,
      "metadata": {
        "id": "UgJjLV1mpvaQ"
      },
      "outputs": [],
      "source": [
        "# GRADED FUNCTION: basic_sigmoid\n",
        "\n",
        "import math\n",
        "\n",
        "def basic_sigmoid(x):\n",
        "    \"\"\"\n",
        "    Compute sigmoid of x.\n",
        "\n",
        "    Arguments:\n",
        "    x -- A scalar\n",
        "\n",
        "    Return:\n",
        "    s -- sigmoid(x)\n",
        "    \"\"\"\n",
        "    \n",
        "    ### START CODE HERE ### (≈ 1 line of code)\n",
        "    s = 1 / (1 + math.exp(-x))\n",
        "    ### END CODE HERE ###\n",
        "    \n",
        "    return s"
      ]
    },
    {
      "cell_type": "code",
      "execution_count": 5,
      "metadata": {
        "colab": {
          "base_uri": "https://localhost:8080/"
        },
        "id": "Lt2zam6PpvaR",
        "outputId": "d9c40dde-1c66-44f9-bf61-e025035b4587"
      },
      "outputs": [
        {
          "output_type": "execute_result",
          "data": {
            "text/plain": [
              "0.9525741268224334"
            ]
          },
          "metadata": {},
          "execution_count": 5
        }
      ],
      "source": [
        "basic_sigmoid(3)"
      ]
    },
    {
      "cell_type": "markdown",
      "metadata": {
        "id": "FG-2c9bqpvaS"
      },
      "source": [
        "**Expected Output**: \n",
        "<table style = \"width:40%\">\n",
        "    <tr>\n",
        "    <td>** basic_sigmoid(3) **</td> \n",
        "        <td>0.9525741268224334 </td> \n",
        "    </tr>\n",
        "\n",
        "</table>"
      ]
    },
    {
      "cell_type": "code",
      "execution_count": 6,
      "metadata": {
        "colab": {
          "base_uri": "https://localhost:8080/",
          "height": 255
        },
        "id": "AvHh8_pupvaT",
        "outputId": "b67b0520-a6be-42ef-a13b-39c375e653ca"
      },
      "outputs": [
        {
          "output_type": "display_data",
          "data": {
            "text/plain": [
              "<Figure size 432x288 with 1 Axes>"
            ],
            "image/png": "[encoded data removed]"
          },
          "metadata": {
            "needs_background": "light"
          }
        }
      ],
      "source": [
        "import matplotlib.pyplot as plt\n",
        "import numpy as np\n",
        "\n",
        "x_list = []\n",
        "y_list = []\n",
        "for x in np.arange(-10.0, 10.1, 0.1):\n",
        "    x_list.append(x)\n",
        "    y_list.append(basic_sigmoid(x))\n",
        "\n",
        "ax = plt.gca()\n",
        "ax.spines['top'].set_color('none')\n",
        "ax.spines['bottom'].set_position('zero')\n",
        "ax.spines['left'].set_position('zero')\n",
        "ax.spines['right'].set_color('none')\n",
        "ax.plot(x_list, y_list)\n",
        "plt.show()\n"
      ]
    },
    {
      "cell_type": "markdown",
      "metadata": {
        "id": "-ZrsSLUmpvaT"
      },
      "source": [
        "Actually, we rarely use the \"math\" library in deep learning because the inputs of the functions are real numbers. In deep learning we mostly use matrices and vectors. This is why numpy is more useful. "
      ]
    },
    {
      "cell_type": "code",
      "execution_count": 7,
      "metadata": {
        "colab": {
          "base_uri": "https://localhost:8080/",
          "height": 322
        },
        "id": "I3Z9wgPRpvaU",
        "outputId": "f77256ff-3d3e-4c3f-8ede-66b4464c97ef"
      },
      "outputs": [
        {
          "output_type": "error",
          "ename": "TypeError",
          "evalue": "ignored",
          "traceback": [
            "\u001b[0;31m---------------------------------------------------------------------------\u001b[0m",
            "\u001b[0;31mTypeError\u001b[0m                                 Traceback (most recent call last)",
            "\u001b[0;32m<ipython-input-7-8ccefa5bf989>\u001b[0m in \u001b[0;36m<module>\u001b[0;34m()\u001b[0m\n\u001b[1;32m      1\u001b[0m \u001b[0;31m### One reason why we use \"numpy\" instead of \"math\" in Deep Learning ###\u001b[0m\u001b[0;34m\u001b[0m\u001b[0;34m\u001b[0m\u001b[0;34m\u001b[0m\u001b[0m\n\u001b[1;32m      2\u001b[0m \u001b[0mx\u001b[0m \u001b[0;34m=\u001b[0m \u001b[0;34m[\u001b[0m\u001b[0;36m1\u001b[0m\u001b[0;34m,\u001b[0m \u001b[0;36m2\u001b[0m\u001b[0;34m,\u001b[0m \u001b[0;36m3\u001b[0m\u001b[0;34m]\u001b[0m\u001b[0;34m\u001b[0m\u001b[0;34m\u001b[0m\u001b[0m\n\u001b[0;32m----> 3\u001b[0;31m \u001b[0mbasic_sigmoid\u001b[0m\u001b[0;34m(\u001b[0m\u001b[0mx\u001b[0m\u001b[0;34m)\u001b[0m \u001b[0;31m# you will see this give an error when you run it, because x is a vector.\u001b[0m\u001b[0;34m\u001b[0m\u001b[0;34m\u001b[0m\u001b[0m\n\u001b[0m",
            "\u001b[0;32m<ipython-input-4-6bbe580769a3>\u001b[0m in \u001b[0;36mbasic_sigmoid\u001b[0;34m(x)\u001b[0m\n\u001b[1;32m     15\u001b[0m \u001b[0;34m\u001b[0m\u001b[0m\n\u001b[1;32m     16\u001b[0m     \u001b[0;31m### START CODE HERE ### (≈ 1 line of code)\u001b[0m\u001b[0;34m\u001b[0m\u001b[0;34m\u001b[0m\u001b[0;34m\u001b[0m\u001b[0m\n\u001b[0;32m---> 17\u001b[0;31m     \u001b[0ms\u001b[0m \u001b[0;34m=\u001b[0m \u001b[0;36m1\u001b[0m \u001b[0;34m/\u001b[0m \u001b[0;34m(\u001b[0m\u001b[0;36m1\u001b[0m \u001b[0;34m+\u001b[0m \u001b[0mmath\u001b[0m\u001b[0;34m.\u001b[0m\u001b[0mexp\u001b[0m\u001b[0;34m(\u001b[0m\u001b[0;34m-\u001b[0m\u001b[0mx\u001b[0m\u001b[0;34m)\u001b[0m\u001b[0;34m)\u001b[0m\u001b[0;34m\u001b[0m\u001b[0;34m\u001b[0m\u001b[0m\n\u001b[0m\u001b[1;32m     18\u001b[0m     \u001b[0;31m### END CODE HERE ###\u001b[0m\u001b[0;34m\u001b[0m\u001b[0;34m\u001b[0m\u001b[0;34m\u001b[0m\u001b[0m\n\u001b[1;32m     19\u001b[0m \u001b[0;34m\u001b[0m\u001b[0m\n",
            "\u001b[0;31mTypeError\u001b[0m: bad operand type for unary -: 'list'"
          ]
        }
      ],
      "source": [
        "### One reason why we use \"numpy\" instead of \"math\" in Deep Learning ###\n",
        "x = [1, 2, 3]\n",
        "basic_sigmoid(x) # you will see this give an error when you run it, because x is a vector."
      ]
    },
    {
      "cell_type": "markdown",
      "metadata": {
        "id": "HCSL9HmzpvaU"
      },
      "source": [
        "In fact, if $ x = (x_1, x_2, ..., x_n)$ is a row vector then $np.exp(x)$ will apply the exponential function to every element of x. The output will thus be: $np.exp(x) = (e^{x_1}, e^{x_2}, ..., e^{x_n})$"
      ]
    },
    {
      "cell_type": "code",
      "execution_count": 8,
      "metadata": {
        "colab": {
          "base_uri": "https://localhost:8080/"
        },
        "id": "fjez7zucpvaV",
        "outputId": "a3b48baf-d6ed-4011-d381-fa26368c957e"
      },
      "outputs": [
        {
          "output_type": "stream",
          "name": "stdout",
          "text": [
            "[ 2.71828183  7.3890561  20.08553692]\n"
          ]
        }
      ],
      "source": [
        "import numpy as np\n",
        "\n",
        "# example of np.exp\n",
        "x = np.array([1, 2, 3])\n",
        "print(np.exp(x)) # result is (exp(1), exp(2), exp(3))"
      ]
    },
    {
      "cell_type": "markdown",
      "metadata": {
        "id": "c7C62o6apvaV"
      },
      "source": [
        "Furthermore, if x is a vector, then a Python operation such as $s = x + 3$ or $s = \\frac{1}{x}$ will output s as a vector of the same size as x."
      ]
    },
    {
      "cell_type": "code",
      "execution_count": 9,
      "metadata": {
        "colab": {
          "base_uri": "https://localhost:8080/"
        },
        "id": "oYlOXr6HpvaV",
        "outputId": "12229046-9a0f-4845-9499-6f7207c8a91e"
      },
      "outputs": [
        {
          "output_type": "stream",
          "name": "stdout",
          "text": [
            "[4 5 6]\n"
          ]
        }
      ],
      "source": [
        "# example of vector operation\n",
        "x = np.array([1, 2, 3])\n",
        "print (x + 3)"
      ]
    },
    {
      "cell_type": "markdown",
      "metadata": {
        "id": "EdYXBPC0pvaW"
      },
      "source": [
        "Any time you need more info on a numpy function, we encourage you to look at [the official documentation](https://docs.scipy.org/doc/numpy-1.10.1/reference/generated/numpy.exp.html). \n",
        "\n",
        "**Exercise**: Implement the sigmoid function using numpy. \n",
        "\n",
        "**Instructions**: x could now be either a real number, a vector, or a matrix. The data structures we use in numpy to represent these shapes (vectors, matrices...) are called numpy arrays. You don't need to know more for now.\n",
        "$$ \\text{For } x \\in \\mathbb{R}^n \\text{,     } sigmoid(x) = sigmoid\\begin{pmatrix}\n",
        "    x_1  \\\\\n",
        "    x_2  \\\\\n",
        "    ...  \\\\\n",
        "    x_n  \\\\\n",
        "\\end{pmatrix} = \\begin{pmatrix}\n",
        "    \\frac{1}{1+e^{-x_1}}  \\\\\n",
        "    \\frac{1}{1+e^{-x_2}}  \\\\\n",
        "    ...  \\\\\n",
        "    \\frac{1}{1+e^{-x_n}}  \\\\\n",
        "\\end{pmatrix}\\tag{1} $$"
      ]
    },
    {
      "cell_type": "code",
      "execution_count": 10,
      "metadata": {
        "id": "FhSvYjyjpvaW"
      },
      "outputs": [],
      "source": [
        "import numpy as np\n",
        "\n",
        "def sigmoid(x):\n",
        "    \"\"\"\n",
        "    Compute the sigmoid of x\n",
        "\n",
        "    Arguments:\n",
        "    x -- A scalar or numpy array of any size\n",
        "\n",
        "    Return:\n",
        "    s -- sigmoid(x)\n",
        "    \"\"\"\n",
        "    \n",
        "    ### START CODE HERE ### (≈ 1 line of code)\n",
        "    s = 1 / (1 + np.exp(-x))\n",
        "    ### END CODE HERE ###\n",
        "    \n",
        "    return s"
      ]
    },
    {
      "cell_type": "code",
      "execution_count": 11,
      "metadata": {
        "colab": {
          "base_uri": "https://localhost:8080/"
        },
        "id": "Ttpr6uuRpvaX",
        "outputId": "32feade9-7d3a-46c3-85bc-997f79c42e7a"
      },
      "outputs": [
        {
          "output_type": "execute_result",
          "data": {
            "text/plain": [
              "array([0.73105858, 0.88079708, 0.95257413])"
            ]
          },
          "metadata": {},
          "execution_count": 11
        }
      ],
      "source": [
        "x = np.array([1, 2, 3])\n",
        "sigmoid(x)"
      ]
    },
    {
      "cell_type": "markdown",
      "metadata": {
        "id": "O5n5N6uLpvaX"
      },
      "source": [
        "**Expected Output**: \n",
        "<table>\n",
        "    <tr> \n",
        "        <td> **sigmoid([1,2,3])**</td> \n",
        "        <td> array([ 0.73105858,  0.88079708,  0.95257413]) </td> \n",
        "    </tr>\n",
        "</table> \n"
      ]
    },
    {
      "cell_type": "markdown",
      "metadata": {
        "id": "2ZYJjgqopvaX"
      },
      "source": [
        "### 1.2 - Sigmoid gradient\n",
        "\n",
        "As you've seen in lecture, you will need to compute gradients to optimize loss functions using backpropagation. Let's code your first gradient function.\n",
        "\n",
        "**Exercise**: Implement the function sigmoid_grad() to compute the gradient of the sigmoid function with respect to its input x. The formula is: $$sigmoid\\_derivative(x) = \\sigma'(x) = \\sigma(x) (1 - \\sigma(x))\\tag{2}$$\n",
        "You often code this function in two steps:\n",
        "1. Set s to be the sigmoid of x. You might find your sigmoid(x) function useful.\n",
        "2. Compute $\\sigma'(x) = s(1-s)$"
      ]
    },
    {
      "cell_type": "code",
      "execution_count": 14,
      "metadata": {
        "id": "uPTPoY1zpvaY"
      },
      "outputs": [],
      "source": [
        "# GRADED FUNCTION: sigmoid_derivative\n",
        "\n",
        "def sigmoid_derivative(x):\n",
        "    \"\"\"\n",
        "    Compute the gradient (also called the slope or derivative) of the sigmoid function with respect to its input x.\n",
        "    You can store the output of the sigmoid function into variables and then use it to calculate the gradient.\n",
        "    \n",
        "    Arguments:\n",
        "    x -- A scalar or numpy array\n",
        "\n",
        "    Return:\n",
        "    ds -- Your computed gradient.\n",
        "    \"\"\"\n",
        "    \n",
        "    ### START CODE HERE ### (≈ 2 lines of code)\n",
        "    s = sigmoid(x)\n",
        "    ds = s * (1 - s)\n",
        "    ### END CODE HERE ###\n",
        "    \n",
        "    return ds"
      ]
    },
    {
      "cell_type": "code",
      "execution_count": 15,
      "metadata": {
        "colab": {
          "base_uri": "https://localhost:8080/"
        },
        "id": "8w5faAl9pvaY",
        "outputId": "a69a348a-d690-428e-82f3-7ceb722611da"
      },
      "outputs": [
        {
          "output_type": "stream",
          "name": "stdout",
          "text": [
            "sigmoid_derivative(x) = [0.19661193 0.10499359 0.04517666]\n"
          ]
        }
      ],
      "source": [
        "x = np.array([1, 2, 3])\n",
        "print (\"sigmoid_derivative(x) = \" + str(sigmoid_derivative(x)))"
      ]
    },
    {
      "cell_type": "markdown",
      "metadata": {
        "id": "0Zk95hbNpvaY"
      },
      "source": [
        "**Expected Output**: \n",
        "\n",
        "\n",
        "<table>\n",
        "    <tr> \n",
        "        <td> **sigmoid_derivative([1,2,3])**</td> \n",
        "        <td> [ 0.19661193  0.10499359  0.04517666] </td> \n",
        "    </tr>\n",
        "</table> \n",
        "\n"
      ]
    },
    {
      "cell_type": "markdown",
      "metadata": {
        "id": "DcuDoQJHpvaY"
      },
      "source": [
        "### 1.3 - Reshaping arrays ###\n",
        "\n",
        "Two common numpy functions used in deep learning are [np.shape](https://docs.scipy.org/doc/numpy/reference/generated/numpy.ndarray.shape.html) and [np.reshape()](https://docs.scipy.org/doc/numpy/reference/generated/numpy.reshape.html). \n",
        "- X.shape is used to get the shape (dimension) of a matrix/vector X. \n",
        "- X.reshape(...) is used to reshape X into some other dimension. \n",
        "\n",
        "For example, in computer science, an image is represented by a 3D array of shape $(length, height, depth = 3)$. However, when you read an image as the input of an algorithm you convert it to a vector of shape $(length*height*3, 1)$. In other words, you \"unroll\", or reshape, the 3D array into a 1D vector.\n",
        "\n",
        "<img src=\"https://raw.githubusercontent.com/SanVik2000/EE5179-Final/main/Tutorial-2/image2vector_kiank.png\" style=\"width:500px;height:300;\">\n",
        "\n",
        "**Exercise**: Implement `image2vector()` that takes an input of shape (length, height, 3) and returns a vector of shape (length\\*height\\*3, 1). For example, if you would like to reshape an array v of shape (a, b, c) into a vector of shape (a*b,c) you would do:\n",
        "``` python\n",
        "v = v.reshape((v.shape[0]*v.shape[1], v.shape[2])) # v.shape[0] = a ; v.shape[1] = b ; v.shape[2] = c\n",
        "```\n",
        "- Please don't hardcode the dimensions of image as a constant. Instead look up the quantities you need with `image.shape[0]`, etc. "
      ]
    },
    {
      "cell_type": "code",
      "execution_count": 18,
      "metadata": {
        "id": "u68V1qxUpvaZ"
      },
      "outputs": [],
      "source": [
        "# GRADED FUNCTION: image2vector\n",
        "def image2vector(image):\n",
        "    \"\"\"\n",
        "    Argument:\n",
        "    image -- a numpy array of shape (length, height, depth)\n",
        "    \n",
        "    Returns:\n",
        "    v -- a vector of shape (length*height*depth, 1)\n",
        "    \"\"\"\n",
        "    \n",
        "    ### START CODE HERE ### (≈ 1 line of code)\n",
        "    v = image.reshape(1, -1)\n",
        "    ### END CODE HERE ###\n",
        "    \n",
        "    return v"
      ]
    },
    {
      "cell_type": "code",
      "execution_count": 19,
      "metadata": {
        "colab": {
          "base_uri": "https://localhost:8080/"
        },
        "id": "a_s77RUnpvaZ",
        "outputId": "285b28d2-2cee-4ef2-f1c4-bea3820c5e64"
      },
      "outputs": [
        {
          "output_type": "stream",
          "name": "stdout",
          "text": [
            "image2vector(image) = [[0.67826139 0.29380381 0.90714982 0.52835647 0.4215251  0.45017551\n",
            "  0.92814219 0.96677647 0.85304703 0.52351845 0.19981397 0.27417313\n",
            "  0.60659855 0.00533165 0.10820313 0.49978937 0.34144279 0.94630077]]\n"
          ]
        }
      ],
      "source": [
        "# This is a 3 by 3 by 2 array, typically images will be (num_px_x, num_px_y,3) where 3 represents the RGB values\n",
        "image = np.array([[[ 0.67826139,  0.29380381],\n",
        "        [ 0.90714982,  0.52835647],\n",
        "        [ 0.4215251 ,  0.45017551]],\n",
        "\n",
        "       [[ 0.92814219,  0.96677647],\n",
        "        [ 0.85304703,  0.52351845],\n",
        "        [ 0.19981397,  0.27417313]],\n",
        "\n",
        "       [[ 0.60659855,  0.00533165],\n",
        "        [ 0.10820313,  0.49978937],\n",
        "        [ 0.34144279,  0.94630077]]])\n",
        "\n",
        "print (\"image2vector(image) = \" + str(image2vector(image)))"
      ]
    },
    {
      "cell_type": "markdown",
      "metadata": {
        "id": "0UWiAHVgpvaZ"
      },
      "source": [
        "**Expected Output**: \n",
        "\n",
        "\n",
        "<table style=\"width:100%\">\n",
        "     <tr> \n",
        "       <td> **image2vector(image)** </td> \n",
        "       <td> [[ 0.67826139]\n",
        " [ 0.29380381]\n",
        " [ 0.90714982]\n",
        " [ 0.52835647]\n",
        " [ 0.4215251 ]\n",
        " [ 0.45017551]\n",
        " [ 0.92814219]\n",
        " [ 0.96677647]\n",
        " [ 0.85304703]\n",
        " [ 0.52351845]\n",
        " [ 0.19981397]\n",
        " [ 0.27417313]\n",
        " [ 0.60659855]\n",
        " [ 0.00533165]\n",
        " [ 0.10820313]\n",
        " [ 0.49978937]\n",
        " [ 0.34144279]\n",
        " [ 0.94630077]]</td> \n",
        "     </tr>\n",
        "    \n",
        "   \n",
        "</table>"
      ]
    },
    {
      "cell_type": "markdown",
      "metadata": {
        "id": "PpVX-pcKpvaa"
      },
      "source": [
        "### 1.4 - Broadcasting ###\n",
        "\n",
        "Consider a weight matrix of shape (1, 12288) and an image of shape (209, 12288). This means that the input has 209 image samples with each sample described by 12288 pixels.\n",
        "\n",
        "For one example $x^{(i)}$:\n",
        "$$z^{(i)} = x^{(i)} w^T + b \\tag{1}$$\n",
        "\n",
        "Now, the shape of $x^{(i)} w^T$ is (209, 1) which means it has 209 rows and each row has 1 learned representation for that image sample. Ideally, the shape of the bias term should now be (209, 1) in order to facilitate the addition of $x^{(i)} w^T$ and $b$. This is illustrated as follows:"
      ]
    },
    {
      "cell_type": "code",
      "execution_count": 20,
      "metadata": {
        "colab": {
          "base_uri": "https://localhost:8080/"
        },
        "id": "UrhoiE7xpvaa",
        "outputId": "a1dce298-125d-4ad1-eb13-2c8cebb99cdb"
      },
      "outputs": [
        {
          "output_type": "stream",
          "name": "stdout",
          "text": [
            "Out Shape :  (209, 1)\n",
            "Out Shape (after bias) :  (209, 1)\n"
          ]
        }
      ],
      "source": [
        "w = np.random.rand(1, 12288)\n",
        "img = np.random.rand(209, 12288)\n",
        "b = np.random.rand(209, 1)\n",
        "out = np.dot(img, w.T)\n",
        "print(\"Out Shape : \" , out.shape)\n",
        "out = out + b\n",
        "print(\"Out Shape (after bias) : \" , out.shape)"
      ]
    },
    {
      "cell_type": "markdown",
      "metadata": {
        "id": "yQb6299rpvaa"
      },
      "source": [
        "However, Numpy has an interesting feature called **Boradcasting**. Subject to certain constraints, the smaller array is **“broadcast”** across the larger array so that they have compatible shapes. Broadcasting provides a means of vectorizing array operations so that looping occurs in C instead of Python. It does this without making needless copies of data and usually leads to efficient algorithm implementations."
      ]
    },
    {
      "cell_type": "code",
      "execution_count": 21,
      "metadata": {
        "colab": {
          "base_uri": "https://localhost:8080/"
        },
        "id": "ODFBdULkpvaa",
        "outputId": "7cb1d43d-9ad3-4d72-8ed8-3836e2f5bfe1"
      },
      "outputs": [
        {
          "output_type": "stream",
          "name": "stdout",
          "text": [
            "Out Shape :  (209, 1)\n",
            "Out Shape (after bias) :  (209, 1)\n"
          ]
        }
      ],
      "source": [
        "w1 = np.random.rand(1, 12288)\n",
        "img1 = np.random.rand(209, 12288)\n",
        "b1 = 0\n",
        "out1 = np.dot(img1, w1.T)\n",
        "print(\"Out Shape : \" , out1.shape)\n",
        "out1 = out1 + b1\n",
        "print(\"Out Shape (after bias) : \" , out1.shape)"
      ]
    },
    {
      "cell_type": "markdown",
      "metadata": {
        "id": "N3DeltS1pvaa"
      },
      "source": [
        "## 2) Vectorization"
      ]
    },
    {
      "cell_type": "markdown",
      "metadata": {
        "id": "xRqLUmpBpvab"
      },
      "source": [
        "\n",
        "In deep learning, you deal with very large datasets. Hence, a non-computationally-optimal function can become a huge bottleneck in your algorithm and can result in a model that takes ages to run. To make sure that your code is  computationally efficient, you will use vectorization. For example, try to tell the difference between the following implementations of the dot/outer/elementwise product."
      ]
    },
    {
      "cell_type": "code",
      "execution_count": 22,
      "metadata": {
        "colab": {
          "base_uri": "https://localhost:8080/"
        },
        "id": "o8J0DVeSpvab",
        "outputId": "c8faddc7-8f4b-410b-dcdb-9de7156a4698"
      },
      "outputs": [
        {
          "output_type": "stream",
          "name": "stdout",
          "text": [
            "dot = 278\n",
            " ----- Computation time = 0.09789999999920695ms\n",
            "outer = [[81. 18. 18. 81.  0. 81. 18. 45.  0.  0. 81. 18. 45.  0.  0.]\n",
            " [18.  4.  4. 18.  0. 18.  4. 10.  0.  0. 18.  4. 10.  0.  0.]\n",
            " [45. 10. 10. 45.  0. 45. 10. 25.  0.  0. 45. 10. 25.  0.  0.]\n",
            " [ 0.  0.  0.  0.  0.  0.  0.  0.  0.  0.  0.  0.  0.  0.  0.]\n",
            " [ 0.  0.  0.  0.  0.  0.  0.  0.  0.  0.  0.  0.  0.  0.  0.]\n",
            " [63. 14. 14. 63.  0. 63. 14. 35.  0.  0. 63. 14. 35.  0.  0.]\n",
            " [45. 10. 10. 45.  0. 45. 10. 25.  0.  0. 45. 10. 25.  0.  0.]\n",
            " [ 0.  0.  0.  0.  0.  0.  0.  0.  0.  0.  0.  0.  0.  0.  0.]\n",
            " [ 0.  0.  0.  0.  0.  0.  0.  0.  0.  0.  0.  0.  0.  0.  0.]\n",
            " [ 0.  0.  0.  0.  0.  0.  0.  0.  0.  0.  0.  0.  0.  0.  0.]\n",
            " [81. 18. 18. 81.  0. 81. 18. 45.  0.  0. 81. 18. 45.  0.  0.]\n",
            " [18.  4.  4. 18.  0. 18.  4. 10.  0.  0. 18.  4. 10.  0.  0.]\n",
            " [45. 10. 10. 45.  0. 45. 10. 25.  0.  0. 45. 10. 25.  0.  0.]\n",
            " [ 0.  0.  0.  0.  0.  0.  0.  0.  0.  0.  0.  0.  0.  0.  0.]\n",
            " [ 0.  0.  0.  0.  0.  0.  0.  0.  0.  0.  0.  0.  0.  0.  0.]]\n",
            " ----- Computation time = 0.3046429999997713ms\n",
            "elementwise multiplication = [81.  4. 10.  0.  0. 63. 10.  0.  0.  0. 81.  4. 25.  0.  0.]\n",
            " ----- Computation time = 0.10978800000049915ms\n",
            "gdot = [15.011965   16.10480651 19.27010544]\n",
            " ----- Computation time = 0.16762699999972597ms\n"
          ]
        }
      ],
      "source": [
        "import time\n",
        "\n",
        "x1 = [9, 2, 5, 0, 0, 7, 5, 0, 0, 0, 9, 2, 5, 0, 0]\n",
        "x2 = [9, 2, 2, 9, 0, 9, 2, 5, 0, 0, 9, 2, 5, 0, 0]\n",
        "\n",
        "### CLASSIC DOT PRODUCT OF VECTORS IMPLEMENTATION ###\n",
        "start_time = time.process_time()\n",
        "dot = 0\n",
        "for i in range(len(x1)):\n",
        "    dot+= x1[i]*x2[i]\n",
        "end_time = time.process_time()\n",
        "print (\"dot = \" + str(dot) + \"\\n ----- Computation time = \" + str(1000*(end_time - start_time)) + \"ms\")\n",
        "\n",
        "### CLASSIC OUTER PRODUCT IMPLEMENTATION ###\n",
        "start_time = time.process_time()\n",
        "outer = np.zeros((len(x1),len(x2))) # we create a len(x1)*len(x2) matrix with only zeros\n",
        "for i in range(len(x1)):\n",
        "    for j in range(len(x2)):\n",
        "        outer[i,j] = x1[i]*x2[j]\n",
        "end_time = time.process_time()\n",
        "print (\"outer = \" + str(outer) + \"\\n ----- Computation time = \" + str(1000*(end_time - start_time)) + \"ms\")\n",
        "\n",
        "### CLASSIC ELEMENTWISE IMPLEMENTATION ###\n",
        "start_time = time.process_time()\n",
        "mul = np.zeros(len(x1))\n",
        "for i in range(len(x1)):\n",
        "    mul[i] = x1[i]*x2[i]\n",
        "end_time = time.process_time()\n",
        "print (\"elementwise multiplication = \" + str(mul) + \"\\n ----- Computation time = \" + str(1000*(end_time - start_time)) + \"ms\")\n",
        "\n",
        "### CLASSIC GENERAL DOT PRODUCT IMPLEMENTATION ###\n",
        "W = np.random.rand(3,len(x1)) # Random 3*len(x1) numpy array\n",
        "start_time = time.process_time()\n",
        "gdot = np.zeros(W.shape[0])\n",
        "for i in range(W.shape[0]):\n",
        "    for j in range(len(x1)):\n",
        "        gdot[i] += W[i,j]*x1[j]\n",
        "end_time = time.process_time()\n",
        "print (\"gdot = \" + str(gdot) + \"\\n ----- Computation time = \" + str(1000*(end_time - start_time)) + \"ms\")"
      ]
    },
    {
      "cell_type": "code",
      "execution_count": 23,
      "metadata": {
        "colab": {
          "base_uri": "https://localhost:8080/"
        },
        "id": "UgFfxqaApvab",
        "outputId": "df3a9d58-db33-4082-8b5e-44cddaa10399"
      },
      "outputs": [
        {
          "output_type": "stream",
          "name": "stdout",
          "text": [
            "dot = 278\n",
            " ----- Computation time = 0.09402299999994312ms\n",
            "outer = [[81 18 18 81  0 81 18 45  0  0 81 18 45  0  0]\n",
            " [18  4  4 18  0 18  4 10  0  0 18  4 10  0  0]\n",
            " [45 10 10 45  0 45 10 25  0  0 45 10 25  0  0]\n",
            " [ 0  0  0  0  0  0  0  0  0  0  0  0  0  0  0]\n",
            " [ 0  0  0  0  0  0  0  0  0  0  0  0  0  0  0]\n",
            " [63 14 14 63  0 63 14 35  0  0 63 14 35  0  0]\n",
            " [45 10 10 45  0 45 10 25  0  0 45 10 25  0  0]\n",
            " [ 0  0  0  0  0  0  0  0  0  0  0  0  0  0  0]\n",
            " [ 0  0  0  0  0  0  0  0  0  0  0  0  0  0  0]\n",
            " [ 0  0  0  0  0  0  0  0  0  0  0  0  0  0  0]\n",
            " [81 18 18 81  0 81 18 45  0  0 81 18 45  0  0]\n",
            " [18  4  4 18  0 18  4 10  0  0 18  4 10  0  0]\n",
            " [45 10 10 45  0 45 10 25  0  0 45 10 25  0  0]\n",
            " [ 0  0  0  0  0  0  0  0  0  0  0  0  0  0  0]\n",
            " [ 0  0  0  0  0  0  0  0  0  0  0  0  0  0  0]]\n",
            " ----- Computation time = 0.13471299999956443ms\n",
            "elementwise multiplication = [81  4 10  0  0 63 10  0  0  0 81  4 25  0  0]\n",
            " ----- Computation time = 0.08570399999996425ms\n",
            "gdot = [15.011965   16.10480651 19.27010544]\n",
            " ----- Computation time = 0.10307199999992633ms\n"
          ]
        }
      ],
      "source": [
        "x1 = [9, 2, 5, 0, 0, 7, 5, 0, 0, 0, 9, 2, 5, 0, 0]\n",
        "x2 = [9, 2, 2, 9, 0, 9, 2, 5, 0, 0, 9, 2, 5, 0, 0]\n",
        "\n",
        "### VECTORIZED DOT PRODUCT OF VECTORS ###\n",
        "start_time = time.process_time()\n",
        "dot = np.dot(x1,x2)\n",
        "end_time = time.process_time()\n",
        "print (\"dot = \" + str(dot) + \"\\n ----- Computation time = \" + str(1000*(end_time - start_time)) + \"ms\")\n",
        "\n",
        "### VECTORIZED OUTER PRODUCT ###\n",
        "start_time = time.process_time()\n",
        "outer = np.outer(x1,x2)\n",
        "end_time = time.process_time()\n",
        "print (\"outer = \" + str(outer) + \"\\n ----- Computation time = \" + str(1000*(end_time - start_time)) + \"ms\")\n",
        "\n",
        "### VECTORIZED ELEMENTWISE MULTIPLICATION ###\n",
        "start_time = time.process_time()\n",
        "mul = np.multiply(x1,x2)\n",
        "end_time = time.process_time()\n",
        "print (\"elementwise multiplication = \" + str(mul) + \"\\n ----- Computation time = \" + str(1000*(end_time - start_time)) + \"ms\")\n",
        "\n",
        "### VECTORIZED GENERAL DOT PRODUCT ###\n",
        "start_time = time.process_time()\n",
        "dot = np.dot(W,x1)\n",
        "end_time = time.process_time()\n",
        "print (\"gdot = \" + str(dot) + \"\\n ----- Computation time = \" + str(1000*(end_time - start_time)) + \"ms\")"
      ]
    },
    {
      "cell_type": "markdown",
      "metadata": {
        "id": "NCGVLS2apvab"
      },
      "source": [
        "As you may have noticed, the vectorized implementation is much cleaner and more efficient. For bigger vectors/matrices, the differences in running time become even bigger. \n",
        "\n",
        "**Note** that `np.dot()` performs a matrix-matrix or matrix-vector multiplication. This is different from `np.multiply()` and the `*` operator (which is equivalent to  `.*` in Matlab/Octave), which performs an element-wise multiplication."
      ]
    },
    {
      "cell_type": "markdown",
      "metadata": {
        "id": "-fVst_ntpvac"
      },
      "source": [
        "### 2.1 Implement the L1 and L2 loss functions\n",
        "\n",
        "**Exercise**: Implement the numpy vectorized version of the L1 loss. You may find the function abs(x) (absolute value of x) useful.\n",
        "\n",
        "**Reminder**:\n",
        "- The loss is used to evaluate the performance of your model. The bigger your loss is, the more different your predictions ($ \\hat{y} $) are from the true values ($y$). In deep learning, you use optimization algorithms like Gradient Descent to train your model and to minimize the cost.\n",
        "- L1 loss is defined as:\n",
        "$$\\begin{align*} & L_1(\\hat{y}, y) = \\sum_{i=0}^m|y^{(i)} - \\hat{y}^{(i)}| \\end{align*}\\tag{6}$$"
      ]
    },
    {
      "cell_type": "code",
      "execution_count": 24,
      "metadata": {
        "id": "DqGuXx6Kpvac"
      },
      "outputs": [],
      "source": [
        "# GRADED FUNCTION: L1\n",
        "def L1(yhat, y):\n",
        "    \"\"\"\n",
        "    Arguments:\n",
        "    yhat -- vector of size m (predicted labels)\n",
        "    y -- vector of size m (true labels)\n",
        "    \n",
        "    Returns:\n",
        "    loss -- the value of the L1 loss function defined above\n",
        "    \"\"\"\n",
        "    \n",
        "    ### START CODE HERE ### (≈ 1 line of code)\n",
        "    loss = np.abs(y - yhat).sum()\n",
        "    ### END CODE HERE ###\n",
        "    \n",
        "    return loss"
      ]
    },
    {
      "cell_type": "code",
      "execution_count": 25,
      "metadata": {
        "colab": {
          "base_uri": "https://localhost:8080/"
        },
        "id": "RHzO2tBTpvac",
        "outputId": "948a7c9e-4031-4017-fcb0-ca120604e371"
      },
      "outputs": [
        {
          "output_type": "stream",
          "name": "stdout",
          "text": [
            "L1 = 1.1\n"
          ]
        }
      ],
      "source": [
        "yhat = np.array([.9, 0.2, 0.1, .4, .9])\n",
        "y = np.array([1, 0, 0, 1, 1])\n",
        "print(\"L1 = \" + str(L1(yhat,y)))"
      ]
    },
    {
      "cell_type": "markdown",
      "metadata": {
        "id": "1A8aFrUhpvac"
      },
      "source": [
        "**Expected Output**:\n",
        "\n",
        "<table style=\"width:20%\">\n",
        "     <tr> \n",
        "       <td> **L1** </td> \n",
        "       <td> 1.1 </td> \n",
        "     </tr>\n",
        "</table>\n"
      ]
    },
    {
      "cell_type": "markdown",
      "metadata": {
        "id": "Q7TKuRk9pvad"
      },
      "source": [
        "**Exercise**: Implement the numpy vectorized version of the L2 loss. There are several way of implementing the L2 loss but you may find the function np.dot() useful. As a reminder, if $x = [x_1, x_2, ..., x_n]$, then `np.dot(x,x)` = $\\sum_{j=0}^n x_j^{2}$. \n",
        "\n",
        "- L2 loss is defined as $$\\begin{align*} & L_2(\\hat{y},y) = \\sum_{i=0}^m(y^{(i)} - \\hat{y}^{(i)})^2 \\end{align*}\\tag{7}$$"
      ]
    },
    {
      "cell_type": "code",
      "execution_count": 26,
      "metadata": {
        "id": "ZqQTSHArpvad"
      },
      "outputs": [],
      "source": [
        "# GRADED FUNCTION: L2\n",
        "\n",
        "def L2(yhat, y):\n",
        "    \"\"\"\n",
        "    Arguments:\n",
        "    yhat -- vector of size m (predicted labels)\n",
        "    y -- vector of size m (true labels)\n",
        "    \n",
        "    Returns:\n",
        "    loss -- the value of the L2 loss function defined above\n",
        "    \"\"\"\n",
        "    \n",
        "    ### START CODE HERE ### (≈ 1 line of code)\n",
        "    loss = ((y - yhat)**2).sum()\n",
        "    ### END CODE HERE ###\n",
        "    \n",
        "    return loss"
      ]
    },
    {
      "cell_type": "code",
      "execution_count": 27,
      "metadata": {
        "colab": {
          "base_uri": "https://localhost:8080/"
        },
        "id": "wki1nBI6pvad",
        "outputId": "bfede90f-d057-45c4-8646-e6a24573c05d"
      },
      "outputs": [
        {
          "output_type": "stream",
          "name": "stdout",
          "text": [
            "L2 = 0.43\n"
          ]
        }
      ],
      "source": [
        "yhat = np.array([.9, 0.2, 0.1, .4, .9])\n",
        "y = np.array([1, 0, 0, 1, 1])\n",
        "print(\"L2 = \" + str(L2(yhat,y)))"
      ]
    },
    {
      "cell_type": "markdown",
      "metadata": {
        "id": "x4A095ropvad"
      },
      "source": [
        "**Expected Output**: \n",
        "<table style=\"width:20%\">\n",
        "     <tr> \n",
        "       <td> **L2** </td> \n",
        "       <td> 0.43 </td> \n",
        "     </tr>\n",
        "</table>"
      ]
    }
  ],
  "metadata": {
    "colab": {
      "name": "Task02 - Vectorization.ipynb",
      "provenance": []
    },
    "coursera": {
      "course_slug": "neural-networks-deep-learning",
      "graded_item_id": "XHpfv",
      "launcher_item_id": "Zh0CU"
    },
    "kernelspec": {
      "display_name": "Python 3 (ipykernel)",
      "language": "python",
      "name": "python3"
    },
    "language_info": {
      "codemirror_mode": {
        "name": "ipython",
        "version": 3
      },
      "file_extension": ".py",
      "mimetype": "text/x-python",
      "name": "python",
      "nbconvert_exporter": "python",
      "pygments_lexer": "ipython3",
      "version": "3.10.4"
    },
    "varInspector": {
      "cols": {
        "lenName": 16,
        "lenType": 16,
        "lenVar": 40
      },
      "kernels_config": {
        "python": {
          "delete_cmd_postfix": "",
          "delete_cmd_prefix": "del ",
          "library": "var_list.py",
          "varRefreshCmd": "print(var_dic_list())"
        },
        "r": {
          "delete_cmd_postfix": ") ",
          "delete_cmd_prefix": "rm(",
          "library": "var_list.r",
          "varRefreshCmd": "cat(var_dic_list()) "
        }
      },
      "types_to_exclude": [
        "module",
        "function",
        "builtin_function_or_method",
        "instance",
        "_Feature"
      ],
      "window_display": false
    }
  },
  "nbformat": 4,
  "nbformat_minor": 0
}